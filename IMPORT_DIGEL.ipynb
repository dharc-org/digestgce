{
  "nbformat": 4,
  "nbformat_minor": 0,
  "metadata": {
    "colab": {
      "provenance": []
    },
    "kernelspec": {
      "name": "python3",
      "display_name": "Python 3"
    },
    "language_info": {
      "name": "python"
    }
  },
  "cells": [
    {
      "cell_type": "markdown",
      "source": [
        "# DIGEL import\n",
        "\n",
        "Tramite questo notebook vengono eseguiti dei controlli di qualità sui dati delle tabelle, il match tra nuovi termini e termini già nel digest (e.g. nomi di persone) e viene effettuato l'import. \n",
        "\n",
        "Inizialmente vengono segnalati eventuali **errori** (e.g. nomi di colonne errati). In seguito vengono visualizzate le liste di nomi di persone, riviste, editori e libri estratte dalle tabelle. Queste vanno ricontrollate manualmente affinchè non ci siano varianti dello stesso nome all'interno della tabella. Effettuati questi controlli, i nomi possono essere **riconciliati** (matching) con i nomi esistenti nel Digest online.\n",
        "\n",
        "Quando i controlli e i match sono effettuati, i dati vengono trasformati e inviati al Digest online.\n",
        "\n",
        "Se viene riscontrato un errore, il processo si ferma e viene chiesto di modificare la tabella, ricaricarla e ripetere il processo dall'inizio. \n",
        "\n",
        "**Per evitare problemi nella cronologia dei file, clicca su `Runtime`> `Disconnetti runtime ed eliminane i dati`).**\n"
      ],
      "metadata": {
        "id": "_7SdHzRKJ_bb"
      }
    },
    {
      "cell_type": "markdown",
      "source": [
        "## 1. Controlli preliminari\n",
        "\n",
        "1. Si possono caricare più file excel ma viene processato **un solo file excel** alla volta. Per caricare dati da più file bisogna fare refresh della pagina e ripetere le operazioni (cambiando il nome del file da processare quando richiesto)\n",
        "2. Il file excel deve essere nel **formato** `.xlsx`\n",
        "3. Le **colonne** della tabella devono rispettare le norme redazionali\n",
        "\n",
        "### 1.1 Norme per la redazione delle tabelle\n",
        "\n",
        "I nomi delle intestazioni delle colonne devono essere come segue. L'ordine non è importante, mentre è fondamentale che non ci siano colonne extra non elencate qui sotto.\n",
        "\n",
        "**Nomi delle colonne**\n",
        "\n",
        " * reference (APA) (*opzionale*)\n",
        " * publication type\t\n",
        " * title\t\n",
        " * author_1\t, author_2, author_3, author_4, author_5, author_6, author_7, author_8, author_9, author_10\t\n",
        " * journal\t\n",
        " * volume\t\n",
        " * issue\t\n",
        " * pages\t\n",
        " * year\t\n",
        " * main_theme\t\n",
        " * secondary_theme\t\n",
        " * lang\t\n",
        " * link\t\n",
        " * doi \n",
        " * booktitle\n",
        " * publisher\n",
        " * editor_1, editor_2, editor_3, editor_4, editor_5, editor_6, editor_7, editor_8, editor_9, editor_10\n",
        "\n",
        "**Vocabolari controllati**\n",
        "\n",
        "*publication type*\n",
        " * 'Article',\n",
        " * 'Journal Issue',\n",
        " * 'Report'\n",
        " * 'Book Chapter',\n",
        " * 'Book',\n",
        " * 'Doctoral Thesis'\n",
        " * 'Grey Literature'\n",
        "\n",
        "*lang*\n",
        " * \"Polish\"\n",
        " * \"Spanish\"\n",
        " * \"Portuguese\"\n",
        " * \"Italian\"\n",
        " * \"Dutch\"\n",
        " * \"German\"\n",
        " * \"French\"\n",
        " * \"English\" \n",
        "\n",
        "*main_theme* e *secondary_theme*\n",
        "\n",
        " * \"community work\", \n",
        " * \"educational partnerships\", \n",
        " * \"formal education\", \n",
        " * \"higher education research\", \n",
        " * \"informal education including youth work\", \n",
        " * \"international volunteering\", \n",
        " * \"media\", \n",
        " * \"non-formal education\", \n",
        " * \"policy related research\", \n",
        " * \"study visits\", \n",
        " * \"teacher education\", \n",
        " * \"theoretical\", \n",
        " * \"training of trainers\", \n",
        " * \"teaching material\" (*solo in main_theme*)"
      ],
      "metadata": {
        "id": "jaazegYcQyYG"
      }
    },
    {
      "cell_type": "markdown",
      "source": [
        "## 2. Caricamento del file excel\n",
        "\n",
        "1. Nella barra a sinistra, clicca sull'icona della cartella per espandere il menu \n",
        "2. Fare Drag and drop del file excel dal proprio computer alla sidebar (rilasciare il mouse nello spazio bianco, non nella cartella `sample_data`)\n",
        "\n",
        "<img src=\"https://github.com/dharc-org/digestgce/raw/main/import.png\" width=\"500px\">\n",
        "\n",
        "*Comparirà un alert in cui si ricorda che i dati verranno cancellati dal drive allo scadere della sessione (quando si esce da questa finestra)*\n",
        "\n",
        "3. Nel menu in alto, clicca su `Runtime` e poi su `Esegui tutte`. Segui i prompt in cui ti viene chiesto di rivedere le liste e confermare.\n",
        "\n",
        "<img src=\"https://github.com/dharc-org/digestgce/raw/main/run.png\" width=\"500px\">\n"
      ],
      "metadata": {
        "id": "dILmiftfQtXS"
      }
    },
    {
      "cell_type": "code",
      "source": [
        "# install libraries\n",
        "!pip install sparql-dataframe\n",
        "!pip install rdflib\n",
        "\n",
        "# import libraries\n",
        "import requests\n",
        "url = 'https://raw.githubusercontent.com/dharc-org/digestgce/main/digel.py'\n",
        "r = requests.get(url)\n",
        "with open('digel.py', 'w') as f:\n",
        "    f.write(r.text)\n",
        "\n",
        "import digel as dg\n",
        "import hashlib\n",
        "import re\n",
        "import requests , urllib.parse\n",
        "from collections import defaultdict\n",
        "from datetime import datetime\n",
        "\n",
        "import pandas as pd\n",
        "import numpy as np\n",
        "\n",
        "import sparql_dataframe\n",
        "from rdflib import Graph, Literal, RDF, URIRef, ConjunctiveGraph, Namespace\n",
        "from rdflib.namespace import XSD, OWL, RDF , RDFS, DCTERMS\n",
        "\n",
        "from google.colab import files"
      ],
      "metadata": {
        "id": "mxCQ0p15he7H",
        "colab": {
          "base_uri": "https://localhost:8080/"
        },
        "outputId": "ddd13c96-fbc3-4c93-d229-f46f10a4d618"
      },
      "execution_count": null,
      "outputs": [
        {
          "output_type": "stream",
          "name": "stdout",
          "text": [
            "Looking in indexes: https://pypi.org/simple, https://us-python.pkg.dev/colab-wheels/public/simple/\n",
            "Requirement already satisfied: sparql-dataframe in /usr/local/lib/python3.8/dist-packages (0.4)\n",
            "Requirement already satisfied: pandas>=0.22.0 in /usr/local/lib/python3.8/dist-packages (from sparql-dataframe) (1.3.5)\n",
            "Requirement already satisfied: SPARQLWrapper>=1.8.1 in /usr/local/lib/python3.8/dist-packages (from sparql-dataframe) (2.0.0)\n",
            "Requirement already satisfied: numpy>=1.17.3 in /usr/local/lib/python3.8/dist-packages (from pandas>=0.22.0->sparql-dataframe) (1.21.6)\n",
            "Requirement already satisfied: pytz>=2017.3 in /usr/local/lib/python3.8/dist-packages (from pandas>=0.22.0->sparql-dataframe) (2022.6)\n",
            "Requirement already satisfied: python-dateutil>=2.7.3 in /usr/local/lib/python3.8/dist-packages (from pandas>=0.22.0->sparql-dataframe) (2.8.2)\n",
            "Requirement already satisfied: six>=1.5 in /usr/local/lib/python3.8/dist-packages (from python-dateutil>=2.7.3->pandas>=0.22.0->sparql-dataframe) (1.15.0)\n",
            "Requirement already satisfied: rdflib>=6.1.1 in /usr/local/lib/python3.8/dist-packages (from SPARQLWrapper>=1.8.1->sparql-dataframe) (6.2.0)\n",
            "Requirement already satisfied: isodate in /usr/local/lib/python3.8/dist-packages (from rdflib>=6.1.1->SPARQLWrapper>=1.8.1->sparql-dataframe) (0.6.1)\n",
            "Requirement already satisfied: setuptools in /usr/local/lib/python3.8/dist-packages (from rdflib>=6.1.1->SPARQLWrapper>=1.8.1->sparql-dataframe) (57.4.0)\n",
            "Requirement already satisfied: pyparsing in /usr/local/lib/python3.8/dist-packages (from rdflib>=6.1.1->SPARQLWrapper>=1.8.1->sparql-dataframe) (3.0.9)\n",
            "Looking in indexes: https://pypi.org/simple, https://us-python.pkg.dev/colab-wheels/public/simple/\n",
            "Requirement already satisfied: rdflib in /usr/local/lib/python3.8/dist-packages (6.2.0)\n",
            "Requirement already satisfied: setuptools in /usr/local/lib/python3.8/dist-packages (from rdflib) (57.4.0)\n",
            "Requirement already satisfied: isodate in /usr/local/lib/python3.8/dist-packages (from rdflib) (0.6.1)\n",
            "Requirement already satisfied: pyparsing in /usr/local/lib/python3.8/dist-packages (from rdflib) (3.0.9)\n",
            "Requirement already satisfied: six in /usr/local/lib/python3.8/dist-packages (from isodate->rdflib) (1.15.0)\n"
          ]
        }
      ]
    },
    {
      "cell_type": "markdown",
      "source": [
        "## 3. Controllo qualità\n",
        "\n",
        "Segui le istruzioni e i prompt che ti vengono richiesti"
      ],
      "metadata": {
        "id": "W3w2IaLRXgAj"
      }
    },
    {
      "cell_type": "code",
      "source": [
        "input_file = input(\"Inserisci il nome completo del file xlsx da processare e premi invio: \")"
      ],
      "metadata": {
        "id": "g1DInGX_TnrL",
        "colab": {
          "base_uri": "https://localhost:8080/"
        },
        "outputId": "73b6e69f-3634-48fd-a5f8-56bd6ca6c7dc"
      },
      "execution_count": null,
      "outputs": [
        {
          "name": "stdout",
          "output_type": "stream",
          "text": [
            "Inserisci il nome completo del file xlsx da processare e premi invio: italy.xlsx\n"
          ]
        }
      ]
    },
    {
      "cell_type": "code",
      "source": [
        "sheet_name = input(\"Inserisci il nome del tab con i dati e premi invio: \") "
      ],
      "metadata": {
        "id": "eLIXXKmmZWl-",
        "colab": {
          "base_uri": "https://localhost:8080/"
        },
        "outputId": "e3f8fd9a-9ecf-4f9a-f706-aa968f7f6c69"
      },
      "execution_count": null,
      "outputs": [
        {
          "name": "stdout",
          "output_type": "stream",
          "text": [
            "Inserisci il nome del tab con i dati e premi invio: italy\n"
          ]
        }
      ]
    },
    {
      "cell_type": "code",
      "source": [
        "try:\n",
        "  df = pd.read_excel(input_file,sheet_name=sheet_name)\n",
        "except:\n",
        "  raise TypeError(\"ERRORE - Il nome del file o del tab sono sbagliati. Fai refresch della pagina e ricomincia\")"
      ],
      "metadata": {
        "id": "Lik4kfiWWzsU"
      },
      "execution_count": null,
      "outputs": []
    },
    {
      "cell_type": "markdown",
      "source": [
        "### 3.1 Controllo nomi colonne"
      ],
      "metadata": {
        "id": "XIpfXKi7masH"
      }
    },
    {
      "cell_type": "code",
      "source": [
        "cols = list(df.columns.values)\n",
        "cols = [x for x in cols if 'Unnamed' not in x]\n",
        "dg.check_columns(cols, dg.COLUMNS, 'y')\n",
        "# lowercase all columns\n",
        "df.columns= df.columns.str.lower()"
      ],
      "metadata": {
        "id": "_W3bVBWH3-FH",
        "colab": {
          "base_uri": "https://localhost:8080/"
        },
        "outputId": "d450afcc-f061-4689-d0bc-e47925ae3d84"
      },
      "execution_count": null,
      "outputs": [
        {
          "output_type": "stream",
          "name": "stdout",
          "text": [
            "OK -- i nomi delle colonne sono corretti\n"
          ]
        }
      ]
    },
    {
      "cell_type": "markdown",
      "source": [
        "### 3.2 Controllo vocabolari\n",
        "\n"
      ],
      "metadata": {
        "id": "MJrB-l_sa15c"
      }
    },
    {
      "cell_type": "code",
      "source": [
        "# lang\n",
        "lang = df['lang'].dropna().unique().tolist()\n",
        "dg.check_vocabulary(lang, dg.LANGUAGES, 'lang')\n",
        "# pub type\n",
        "pub_type = df['publication type'].dropna().unique().tolist()\n",
        "dg.check_vocabulary(pub_type, dg.PUBLICATION_TYPES, 'publication type')\n",
        "# primary subject\n",
        "primary_type = df['main_theme'].dropna().unique().tolist()\n",
        "dg.check_vocabulary(primary_type, dg.PRIMARY_SUBJECTS, 'main_theme','y')\n",
        "# secondary subject\n",
        "secondary_type = df['secondary_theme'].dropna().unique().tolist()\n",
        "dg.check_vocabulary(secondary_type, dg.SECONDARY_SUBJECTS, 'secondary_theme','y')"
      ],
      "metadata": {
        "id": "KGA0OZQlasI_",
        "colab": {
          "base_uri": "https://localhost:8080/"
        },
        "outputId": "dca39164-128f-411e-b55d-65566bd154fa"
      },
      "execution_count": null,
      "outputs": [
        {
          "output_type": "stream",
          "name": "stdout",
          "text": [
            "OK -- il dizionario nella colonna lang è corretto\n",
            "OK -- il dizionario nella colonna publication type è corretto\n",
            "OK -- il dizionario nella colonna main_theme è corretto\n",
            "OK -- il dizionario nella colonna secondary_theme è corretto\n"
          ]
        }
      ]
    },
    {
      "cell_type": "markdown",
      "source": [
        "### 3.3 Controllo tipi di valori\n",
        "\n",
        "TODO"
      ],
      "metadata": {
        "id": "CDjSy8Zhpwmo"
      }
    },
    {
      "cell_type": "markdown",
      "source": [
        "### 3.4 Controllo omonimi\n",
        "\n",
        "**Autori e editori**\n",
        "\n",
        "Sotto viene riportata la lista di autori (valori unici). Ricontrolla la lista. \n",
        "\n",
        "Se ci sono valori erronei (e.g. \"-\"), valori doppi in un campo (e.g. \"Costa, M.F. & Rodrigues\") o doppioni (e.g. \"Lima, M.J.M\" e \"Lima, M.J.M.\"), modifica il file excel, fai refresch della pagina, ricarica il file ed esegui tutto (Runtime > Esegui tutte)."
      ],
      "metadata": {
        "id": "qZ0PdPThmhoo"
      }
    },
    {
      "cell_type": "code",
      "source": [
        "if 'editor_1' in df.columns:\n",
        "  user_people = dg.check_omonyms([df['author_1'], df['author_2'],\n",
        "                df['author_3'], df['author_4'], df['author_5'], df['author_6'],\n",
        "                df['author_7'], df['author_8'], df['author_9'],df['author_10'],\n",
        "                df['editor_1'], df['editor_2'],\n",
        "                df['editor_3'], df['editor_4'], df['editor_5'], df['editor_6'],\n",
        "                df['editor_7'], df['editor_8'], df['editor_9'],df['editor_10']])\n",
        "else:\n",
        "  user_people = dg.check_omonyms([df['author_1'], df['author_2'],\n",
        "                df['author_3'], df['author_4'], df['author_5'], df['author_6'],\n",
        "                df['author_7'], df['author_8'], df['author_9'],df['author_10']])"
      ],
      "metadata": {
        "id": "Vrc4tnLmAZtq",
        "colab": {
          "base_uri": "https://localhost:8080/"
        },
        "outputId": "27b0f2fa-627a-45ab-bbfc-08356a2c73e6"
      },
      "execution_count": null,
      "outputs": [
        {
          "output_type": "stream",
          "name": "stdout",
          "text": [
            "Ambel, Mario\n",
            "Bonel, Roberta\n",
            "Caccioppola, Federica\n",
            "Caruso, Angela\n",
            "Da Re, Lorenza\n",
            "Dato, Daniela\n",
            "De Toffoli, Matteo\n",
            "Galligani, Ivan\n",
            "Grion, Valentina\n",
            "Ladogana, Manuela\n",
            "Laneri, Calogero\n",
            "Libro Bianco\n",
            "Mungongo, Emmanuel Kasongo\n",
            "Nuzzaci, Antonella\n",
            "Panarello, Patrizia\n",
            "Porcarelli, Andrea\n",
            "Rizzi Paola\n",
            "Simeone, Domenico\n",
            "Tagliavia, Alfredo\n",
            "Tino, Concetta\n",
            "UNESCO\n",
            "VV.AA.\n",
            "WE WORLD\n",
            "Zani, Vincenzo\n"
          ]
        }
      ]
    },
    {
      "cell_type": "code",
      "source": [
        "continue_parsing = input(\"Se i nomi delle persone sono corretti premi invio, altrimenti modifica il file e ricarica\")"
      ],
      "metadata": {
        "id": "xLY0nz_aCAVO",
        "colab": {
          "base_uri": "https://localhost:8080/"
        },
        "outputId": "3c1785f3-5aeb-4a36-9aa1-a5d3f327952f"
      },
      "execution_count": null,
      "outputs": [
        {
          "name": "stdout",
          "output_type": "stream",
          "text": [
            "Se i nomi delle persone sono corretti premi invio, altrimenti modifica il file e ricarica\n"
          ]
        }
      ]
    },
    {
      "cell_type": "markdown",
      "source": [
        "**Journals**\n",
        "\n",
        "Procedi come per gli autori"
      ],
      "metadata": {
        "id": "Yq2YvVU8DlHl"
      }
    },
    {
      "cell_type": "code",
      "source": [
        "user_journals = dg.check_omonyms([df['journal']])"
      ],
      "metadata": {
        "id": "nUFaAU71CUVC"
      },
      "execution_count": null,
      "outputs": []
    },
    {
      "cell_type": "code",
      "source": [
        "continue_parsing = input(\"Se i journal sono corretti premi invio, altrimenti modifica il file e ricarica\")"
      ],
      "metadata": {
        "id": "b-plo6pVT2bw",
        "colab": {
          "base_uri": "https://localhost:8080/"
        },
        "outputId": "166e26ab-1b43-497a-e1d2-69342763838e"
      },
      "execution_count": null,
      "outputs": [
        {
          "name": "stdout",
          "output_type": "stream",
          "text": [
            "Se i journal sono corretti premi invio, altrimenti modifica il file e ricarica\n"
          ]
        }
      ]
    },
    {
      "cell_type": "markdown",
      "source": [
        "**Publisher**\n",
        "\n",
        "Procedi come per gli autori e i journal"
      ],
      "metadata": {
        "id": "wMG01RMe8fgl"
      }
    },
    {
      "cell_type": "code",
      "source": [
        "user_publishers = dg.check_omonyms([df['publisher']]) if 'publisher' in df.columns else {}"
      ],
      "metadata": {
        "id": "JoUvOmbC8jN4",
        "colab": {
          "base_uri": "https://localhost:8080/"
        },
        "outputId": "e072a407-b308-435e-a484-830a73834320"
      },
      "execution_count": null,
      "outputs": [
        {
          "output_type": "stream",
          "name": "stdout",
          "text": [
            "Edizioni ETS\n",
            "Edizioni Sapienza\n",
            "Falzea\n",
            "LUMSA\n",
            "Pensa MultiMedia\n",
            "Piemme Edizioni\n",
            "UNESCO\n",
            "Università degli studi RomaTre\n",
            "Vita e Pensiero Editrice\n",
            "We World\n",
            "Zeroseiup\n"
          ]
        }
      ]
    },
    {
      "cell_type": "code",
      "source": [
        "continue_parsing = input(\"Se i publisher sono corretti premi invio, altrimenti modifica il file e ricarica\")"
      ],
      "metadata": {
        "id": "AKzlN-Na9DSd",
        "colab": {
          "base_uri": "https://localhost:8080/"
        },
        "outputId": "a27fbca9-e938-4d1d-c092-37c6a00bc726"
      },
      "execution_count": null,
      "outputs": [
        {
          "name": "stdout",
          "output_type": "stream",
          "text": [
            "Se i publisher sono corretti premi invio, altrimenti modifica il file e ricarica\n"
          ]
        }
      ]
    },
    {
      "cell_type": "markdown",
      "source": [
        "**Book titles**\n",
        "\n",
        "Procedi come per gli autori, i journal e i publisher. "
      ],
      "metadata": {
        "id": "owmYdipr9Gzu"
      }
    },
    {
      "cell_type": "code",
      "source": [
        "user_books = dg.check_omonyms([df['booktitle']]) if 'booktitle' in df.columns else {}"
      ],
      "metadata": {
        "id": "VKszknZP9M51",
        "colab": {
          "base_uri": "https://localhost:8080/"
        },
        "outputId": "c901742a-d91c-48d9-d77f-3352415ee74e"
      },
      "execution_count": null,
      "outputs": [
        {
          "output_type": "stream",
          "name": "stdout",
          "text": [
            "CONFINI, IDENTITÀ E CITTADINANZA Uno sguardo multidisciplinare\n",
            "Cittadinanza europea, Costituzione e Diritti: l'educazione come strumento di democrazia. Il progetto #ShareEU\n",
            "Una scuola per la cittadinanza\n"
          ]
        }
      ]
    },
    {
      "cell_type": "code",
      "source": [
        "continue_parsing = input(\"Se i titoli di libro sono corretti premi invio, altrimenti modifica il file e ricarica\")"
      ],
      "metadata": {
        "id": "lTlW4zAN9QoH",
        "colab": {
          "base_uri": "https://localhost:8080/"
        },
        "outputId": "e63e05cb-589f-47df-dec2-037625e92b70"
      },
      "execution_count": null,
      "outputs": [
        {
          "name": "stdout",
          "output_type": "stream",
          "text": [
            "Se i titoli di libro sono corretti premi invio, altrimenti modifica il file e ricarica\n"
          ]
        }
      ]
    },
    {
      "cell_type": "markdown",
      "source": [
        "## 4. Riconciliazione con i termini online\n",
        "\n",
        "Viene eseguito il match tra i termini delle liste appena esaminate (autori e journals) e quelli presenti online. \n",
        "\n",
        "N.B. Al momento il match è preciso (le stringhe devono combaciare).\n",
        "\n",
        "Per i termini nuovi, verrà creato un nuovo dato (una nuova persona o un nuovo journal). Viene riportato sotto con la dicitura: \n",
        "\n",
        "`NEW -- Dante Alighieri`\n",
        "\n",
        "Per i termini che hanno un match, viene riportata la URL che identifica la persona, e.g. \n",
        "\n",
        "`MATCH -- Tarozzi, Massimiliano -- https://projects.dharc.unibo.it/digestgel/term-1653893507-239157`\n",
        "\n",
        "I match vanno ricontrollati manualmente. Se un match è errato (sono omonimi ma non sono la stessa persona o rivista) va cambiato il nome nella tabella, oppure si tiene traccia del nome della persona e si cambia online."
      ],
      "metadata": {
        "id": "VJZPmaAYT4l1"
      }
    },
    {
      "cell_type": "markdown",
      "source": [
        "### 4.1 Match persone"
      ],
      "metadata": {
        "id": "FrsdL1EW4OgG"
      }
    },
    {
      "cell_type": "code",
      "source": [
        "df_people = dg.get_entities('people')\n",
        "match_people = dg.match_entities(user_people,df_people['author'], df_people['authorURI'])"
      ],
      "metadata": {
        "id": "WhbTJXvhVnbZ",
        "colab": {
          "base_uri": "https://localhost:8080/"
        },
        "outputId": "30d67677-6ce1-4c71-f643-37cea3893c35"
      },
      "execution_count": null,
      "outputs": [
        {
          "output_type": "stream",
          "name": "stdout",
          "text": [
            "NEW -- Ambel, Mario\n",
            "NEW -- Bonel, Roberta\n",
            "NEW -- Caccioppola, Federica\n",
            "NEW -- Caruso, Angela\n",
            "NEW -- Da Re, Lorenza\n",
            "NEW -- Dato, Daniela\n",
            "NEW -- De Toffoli, Matteo\n",
            "NEW -- Galligani, Ivan\n",
            "NEW -- Grion, Valentina\n",
            "NEW -- Ladogana, Manuela\n",
            "NEW -- Laneri, Calogero\n",
            "NEW -- Libro Bianco\n",
            "NEW -- Mungongo, Emmanuel Kasongo\n",
            "NEW -- Nuzzaci, Antonella\n",
            "NEW -- Panarello, Patrizia\n",
            "NEW -- Porcarelli, Andrea\n",
            "NEW -- Rizzi Paola\n",
            "MATCH -- Simeone, Domenico : https://projects.dharc.unibo.it/digestgel/term-1671008214-83892\n",
            "NEW -- Tagliavia, Alfredo\n",
            "NEW -- Tino, Concetta\n",
            "MATCH -- UNESCO : https://projects.dharc.unibo.it/digestgel/term-1653893507-239402\n",
            "MATCH -- VV.AA. : https://projects.dharc.unibo.it/digestgel/term-1653893507-239467\n",
            "NEW -- WE WORLD\n",
            "NEW -- Zani, Vincenzo\n"
          ]
        }
      ]
    },
    {
      "cell_type": "code",
      "source": [
        "continue_parsing = input(\"Se i match sono corretti premi invio, altrimenti modifica il file e ricarica\")"
      ],
      "metadata": {
        "id": "y9M7cXlH_sEO",
        "colab": {
          "base_uri": "https://localhost:8080/"
        },
        "outputId": "46ac5fc5-2c40-400b-84a1-9d332894c448"
      },
      "execution_count": null,
      "outputs": [
        {
          "name": "stdout",
          "output_type": "stream",
          "text": [
            "Se i match sono corretti premi invio, altrimenti modifica il file e ricarica\n"
          ]
        }
      ]
    },
    {
      "cell_type": "markdown",
      "source": [
        "### 4.2 Match journals"
      ],
      "metadata": {
        "id": "UcarL-WYF-9J"
      }
    },
    {
      "cell_type": "code",
      "source": [
        "df_journals = dg.get_entities('journals')\n",
        "match_journals = dg.match_entities(user_journals,df_journals['journal'], df_journals['journalURI'])"
      ],
      "metadata": {
        "id": "3tQVUZlJEaD7"
      },
      "execution_count": null,
      "outputs": []
    },
    {
      "cell_type": "code",
      "source": [
        "continue_parsing = input(\"Se i match sono corretti premi invio, altrimenti modifica il file e ricarica\")"
      ],
      "metadata": {
        "colab": {
          "base_uri": "https://localhost:8080/"
        },
        "id": "fhWZBVzoSKVy",
        "outputId": "884cb791-05fc-4b2f-8563-75b4d5889c01"
      },
      "execution_count": null,
      "outputs": [
        {
          "name": "stdout",
          "output_type": "stream",
          "text": [
            "Se i match sono corretti premi invio, altrimenti modifica il file e ricarica\n"
          ]
        }
      ]
    },
    {
      "cell_type": "markdown",
      "source": [
        "### 4.3 Match publishers"
      ],
      "metadata": {
        "id": "NA6xjs0g-Qs5"
      }
    },
    {
      "cell_type": "code",
      "source": [
        "df_publishers = dg.get_entities('publishers')\n",
        "match_publishers = dg.match_entities(user_publishers,df_publishers['publisher'], df_publishers['publisherURI'])"
      ],
      "metadata": {
        "id": "e-yaX0S4-TZ0",
        "colab": {
          "base_uri": "https://localhost:8080/"
        },
        "outputId": "5141f7a8-bc7f-4ef9-f35b-90cb19cd6596"
      },
      "execution_count": null,
      "outputs": [
        {
          "output_type": "stream",
          "name": "stdout",
          "text": [
            "NEW -- Edizioni ETS\n",
            "NEW -- Edizioni Sapienza\n",
            "NEW -- Falzea\n",
            "NEW -- LUMSA\n",
            "MATCH -- Pensa MultiMedia : https://projects.dharc.unibo.it/digestgel/term-1653893507-245298\n",
            "NEW -- Piemme Edizioni\n",
            "MATCH -- UNESCO : https://projects.dharc.unibo.it/digestgel/term-1653893507-2455\n",
            "NEW -- Università degli studi RomaTre\n",
            "NEW -- Vita e Pensiero Editrice\n",
            "NEW -- We World\n",
            "NEW -- Zeroseiup\n"
          ]
        }
      ]
    },
    {
      "cell_type": "code",
      "source": [
        "continue_parsing = input(\"Se i match sono corretti premi invio, altrimenti modifica il file e ricarica\")"
      ],
      "metadata": {
        "colab": {
          "base_uri": "https://localhost:8080/"
        },
        "id": "dNeGwH4jSL8N",
        "outputId": "b62a7c70-ff89-47bf-d831-13bce9bfeff4"
      },
      "execution_count": null,
      "outputs": [
        {
          "name": "stdout",
          "output_type": "stream",
          "text": [
            "Se i match sono corretti premi invio, altrimenti modifica il file e ricarica\n"
          ]
        }
      ]
    },
    {
      "cell_type": "markdown",
      "source": [
        "### 4.4 Match Book titles"
      ],
      "metadata": {
        "id": "mrfRjfn2-nJo"
      }
    },
    {
      "cell_type": "code",
      "source": [
        "df_books = dg.get_entities('books')\n",
        "match_books = dg.match_entities(user_books,df_books['book'], df_books['bookURI'])"
      ],
      "metadata": {
        "id": "reZf_ANZ-e4u",
        "colab": {
          "base_uri": "https://localhost:8080/"
        },
        "outputId": "496b7985-24f6-4a36-ab5e-1abd56cda364"
      },
      "execution_count": null,
      "outputs": [
        {
          "output_type": "stream",
          "name": "stdout",
          "text": [
            "NEW -- CONFINI, IDENTITÀ E CITTADINANZA Uno sguardo multidisciplinare\n",
            "NEW -- Cittadinanza europea, Costituzione e Diritti: l'educazione come strumento di democrazia. Il progetto #ShareEU\n",
            "NEW -- Una scuola per la cittadinanza\n"
          ]
        }
      ]
    },
    {
      "cell_type": "code",
      "source": [
        "continue_parsing = input(\"Se i match sono corretti premi invio, altrimenti modifica il file e ricarica\")"
      ],
      "metadata": {
        "colab": {
          "base_uri": "https://localhost:8080/"
        },
        "id": "rVFGzSgqSNMF",
        "outputId": "f07c5149-39a1-4d5f-c8e1-70e77eb95961"
      },
      "execution_count": null,
      "outputs": [
        {
          "name": "stdout",
          "output_type": "stream",
          "text": [
            "Se i match sono corretti premi invio, altrimenti modifica il file e ricarica\n"
          ]
        }
      ]
    },
    {
      "cell_type": "markdown",
      "source": [
        "## 5. Trasformazione dati e import\n",
        "\n",
        "I dati tabulari vengono trasformati nel formato usato dal digest online e vengono caricati automaticamente.\n",
        "\n",
        "Viene richiesta la password per autenticare l'import."
      ],
      "metadata": {
        "id": "u_D0lHPLKeLh"
      }
    },
    {
      "cell_type": "code",
      "source": [
        "api_key = input(\"inserisci la password per l'import:\" )"
      ],
      "metadata": {
        "id": "DguvyYIX7BYE",
        "colab": {
          "base_uri": "https://localhost:8080/"
        },
        "outputId": "4f0889c3-64bb-4440-e6ea-bd5dc93a5407"
      },
      "execution_count": null,
      "outputs": [
        {
          "name": "stdout",
          "output_type": "stream",
          "text": [
            "inserisci la password per l'import:digestIMPORT!\n"
          ]
        }
      ]
    },
    {
      "cell_type": "code",
      "source": [
        "confirm = input(\"Confermi che possiamo procedere all'import? premi invio se sì\" )"
      ],
      "metadata": {
        "id": "abA4ltkSUXOM",
        "colab": {
          "base_uri": "https://localhost:8080/"
        },
        "outputId": "e272adf8-cf0b-431a-df49-65a124f99f63"
      },
      "execution_count": null,
      "outputs": [
        {
          "name": "stdout",
          "output_type": "stream",
          "text": [
            "Confermi che possiamo procedere all'import? premi invio se sì\n"
          ]
        }
      ]
    },
    {
      "cell_type": "code",
      "source": [
        "authors_uri, journals_uri, publishers_uri, books_uri = dg.prepare_uris(user_people, user_journals, user_publishers, user_books)\n",
        "dg.create_graphs(df,\n",
        "                 authors_uri, journals_uri, publishers_uri, books_uri, \n",
        "                 api_key, \n",
        "                 match_people, match_journals, match_publishers, match_books)"
      ],
      "metadata": {
        "id": "bY7YYfgbUlyL",
        "colab": {
          "base_uri": "https://localhost:8080/",
          "height": 1000
        },
        "outputId": "a4bf7b74-0354-4b11-e7e7-fdf4bfbd990e"
      },
      "execution_count": null,
      "outputs": [
        {
          "output_type": "stream",
          "name": "stdout",
          "text": [
            "sending request for 1671102923-882837\n",
            "API URL: https://projects.dharc.unibo.it/digestgel/import\n",
            "request sent 1671102923-882837 b'@prefix biro: <http://purl.org/spar/biro/> .\\n@prefix fabio: <http://purl.org/spar/fabio/> .\\n@prefix gce: <https://w3id.org/digestgel/> .\\n@prefix ns1: <http://purl.org/dc/terms/> .\\n@prefix ns2: <http://dbpedia.org/ontology/> .\\n@prefix prism: <http://prismstandard.org/namespaces/basic/2.0/> .\\n@prefix prov: <http://www.w3.org/ns/prov#> .\\n@prefix rdfs: <http://www.w3.org/2000/01/rdf-schema#> .\\n@prefix xsd: <http://www.w3.org/2001/XMLSchema#> .\\n\\ngce:1671102923-882837 a fabio:Book ;\\n    rdfs:label \"Educare alla cittadinanza locale e globale. Contesti, percorsi, esperienze\" ;\\n    prism:publicationDate <https://w3id.org/digestgel/vocabularies/2021> ;\\n    ns1:language <https://w3id.org/digestgel/vocabularies/italian> ;\\n    ns1:publisher gce:1671102923-870619 ;\\n    ns1:title \"Educare alla cittadinanza locale e globale. Contesti, percorsi, esperienze\" ;\\n    biro:isReferencedBy \"Dato, Daniela; Ladogana, Manuela (2021). Educare alla cittadinanza locale e globale. Contesti, percorsi, esperienze. Zeroseiup\" ;\\n    fabio:hasPrimarySubjectTerm <https://w3id.org/digestgel/vocabularies/teacher-education> ;\\n    fabio:hasSubjectTerm <https://w3id.org/digestgel/vocabularies/training-of-trainers> ;\\n    fabio:hasURL \"https://www.zeroseiup.eu/prodotto/educare-alla-cittadinanza-locale-e-globale/\" ;\\n    gce:firstAuthor gce:1671102923-870486 ;\\n    gce:secondAuthor gce:1671102923-870503 .\\n\\n<https://w3id.org/digestgel/1671102923-882837/> rdfs:label \"Dato, Daniela; Ladogana, Manuela (2021). Educare alla cittadinanza locale e globale. Contesti, percorsi, esperienze. Zeroseiup\" ;\\n    ns2:currentStatus \"published\" ;\\n    prov:generatedAtTime \"2022-12-15T11:15:23.888998\"^^xsd:dateTime ;\\n    prov:wasAttributedTo gce:marilena-dot-daquino2-at-unibo-dot-it .\\n\\ngce:1671102923-870486 rdfs:label \"Dato, Daniela\" .\\n\\ngce:1671102923-870503 rdfs:label \"Ladogana, Manuela\" .\\n\\ngce:1671102923-870619 rdfs:label \"Zeroseiup\" .\\n\\ngce:marilena-dot-daquino2-at-unibo-dot-it rdfs:label \"marilena.daquino2@unibo.it\" .\\n\\n<https://w3id.org/digestgel/vocabularies/2021> rdfs:label \"2021\" .\\n\\n<https://w3id.org/digestgel/vocabularies/italian> rdfs:label \"italian\" .\\n\\n<https://w3id.org/digestgel/vocabularies/teacher-education> rdfs:label \"teacher education\" .\\n\\n<https://w3id.org/digestgel/vocabularies/training-of-trainers> rdfs:label \"training of trainers\" .\\n\\n'\n",
            "200\n",
            "sending request for 1671102923-882918\n",
            "API URL: https://projects.dharc.unibo.it/digestgel/import\n",
            "request sent 1671102923-882918 b'@prefix biro: <http://purl.org/spar/biro/> .\\n@prefix fabio: <http://purl.org/spar/fabio/> .\\n@prefix gce: <https://w3id.org/digestgel/> .\\n@prefix ns1: <http://purl.org/dc/terms/> .\\n@prefix ns2: <http://dbpedia.org/ontology/> .\\n@prefix prism: <http://prismstandard.org/namespaces/basic/2.0/> .\\n@prefix prov: <http://www.w3.org/ns/prov#> .\\n@prefix rdfs: <http://www.w3.org/2000/01/rdf-schema#> .\\n@prefix xsd: <http://www.w3.org/2001/XMLSchema#> .\\n\\ngce:1671102923-882918 a fabio:Book ;\\n    rdfs:label \"Educazione alla cittadinanza globale: Focus su D Congo\" ;\\n    prism:publicationDate <https://w3id.org/digestgel/vocabularies/2021> ;\\n    ns1:language <https://w3id.org/digestgel/vocabularies/italian> ;\\n    ns1:publisher gce:1671102923-870578 ;\\n    ns1:title \"Educazione alla cittadinanza globale: Focus su D Congo\" ;\\n    biro:isReferencedBy \"Mungongo, Emmanuel Kasongo (2021). Educazione alla cittadinanza globale: Focus su D Congo. Edizioni Sapienza\" ;\\n    fabio:hasPrimarySubjectTerm <https://w3id.org/digestgel/vocabularies/conceptual-publications> ;\\n    fabio:hasSubjectTerm <https://w3id.org/digestgel/vocabularies/theoretical> ;\\n    fabio:hasURL \"https://www.miur.gov.it/documents/20182/4394634/13.%20Educazione%20alla%20Cittadinanza%20Globale.pdf\" ;\\n    gce:firstAuthor gce:1671102923-870517 .\\n\\n<https://w3id.org/digestgel/1671102923-882918/> rdfs:label \"Mungongo, Emmanuel Kasongo (2021). Educazione alla cittadinanza globale: Focus su D Congo. Edizioni Sapienza\" ;\\n    ns2:currentStatus \"published\" ;\\n    prov:generatedAtTime \"2022-12-15T11:15:24.768242\"^^xsd:dateTime ;\\n    prov:wasAttributedTo gce:marilena-dot-daquino2-at-unibo-dot-it .\\n\\ngce:1671102923-870517 rdfs:label \"Mungongo, Emmanuel Kasongo\" .\\n\\ngce:1671102923-870578 rdfs:label \"Edizioni Sapienza\" .\\n\\ngce:marilena-dot-daquino2-at-unibo-dot-it rdfs:label \"marilena.daquino2@unibo.it\" .\\n\\n<https://w3id.org/digestgel/vocabularies/2021> rdfs:label \"2021\" .\\n\\n<https://w3id.org/digestgel/vocabularies/conceptual-publications> rdfs:label \"conceptual publications\" .\\n\\n<https://w3id.org/digestgel/vocabularies/italian> rdfs:label \"italian\" .\\n\\n<https://w3id.org/digestgel/vocabularies/theoretical> rdfs:label \"theoretical\" .\\n\\n'\n",
            "200\n",
            "sending request for 1671102923-882982\n",
            "API URL: https://projects.dharc.unibo.it/digestgel/import\n",
            "request sent 1671102923-882982 b'@prefix biro: <http://purl.org/spar/biro/> .\\n@prefix fabio: <http://purl.org/spar/fabio/> .\\n@prefix gce: <https://w3id.org/digestgel/> .\\n@prefix ns1: <http://purl.org/dc/terms/> .\\n@prefix ns2: <http://dbpedia.org/ontology/> .\\n@prefix prism: <http://prismstandard.org/namespaces/basic/2.0/> .\\n@prefix prov: <http://www.w3.org/ns/prov#> .\\n@prefix rdfs: <http://www.w3.org/2000/01/rdf-schema#> .\\n@prefix xsd: <http://www.w3.org/2001/XMLSchema#> .\\n\\ngce:1671102923-882982 a fabio:Book ;\\n    rdfs:label \"In difesa del pianeta vivente per i diritti di madre terra. Educazione globale e scienza della sostenibilit\\xc3\\xa0 nel secolo dell\\'emergenza climatica\" ;\\n    prism:publicationDate <https://w3id.org/digestgel/vocabularies/2020> ;\\n    ns1:language <https://w3id.org/digestgel/vocabularies/italian> ;\\n    ns1:publisher gce:1671102923-870582 ;\\n    ns1:title \"In difesa del pianeta vivente per i diritti di madre terra. Educazione globale e scienza della sostenibilit\\xc3\\xa0 nel secolo dell\\'emergenza climatica\" ;\\n    biro:isReferencedBy \"Panarello, Patrizia (2020). In difesa del pianeta vivente per i diritti di madre terra. Educazione globale e scienza della sostenibilit\\xc3\\xa0 nel secolo dell\\'emergenza climatica. Falzea\" ;\\n    fabio:hasPrimarySubjectTerm <https://w3id.org/digestgel/vocabularies/conceptual-publications> ;\\n    fabio:hasSubjectTerm <https://w3id.org/digestgel/vocabularies/theoretical> ;\\n    fabio:hasURL \"https://sol.unibo.it/SebinaOpac/resource/in-difesa-del-pianeta-vivente-per-i-diritti-di-madre-terra-educazione-globale-e-scienza-della-sosten/UBO7825990\" ;\\n    gce:firstAuthor gce:1671102923-870526 .\\n\\n<https://w3id.org/digestgel/1671102923-882982/> rdfs:label \"Panarello, Patrizia (2020). In difesa del pianeta vivente per i diritti di madre terra. Educazione globale e scienza della sostenibilit\\xc3\\xa0 nel secolo dell\\'emergenza climatica. Falzea\" ;\\n    ns2:currentStatus \"published\" ;\\n    prov:generatedAtTime \"2022-12-15T11:15:25.533517\"^^xsd:dateTime ;\\n    prov:wasAttributedTo gce:marilena-dot-daquino2-at-unibo-dot-it .\\n\\ngce:1671102923-870526 rdfs:label \"Panarello, Patrizia\" .\\n\\ngce:1671102923-870582 rdfs:label \"Falzea\" .\\n\\ngce:marilena-dot-daquino2-at-unibo-dot-it rdfs:label \"marilena.daquino2@unibo.it\" .\\n\\n<https://w3id.org/digestgel/vocabularies/2020> rdfs:label \"2020\" .\\n\\n<https://w3id.org/digestgel/vocabularies/conceptual-publications> rdfs:label \"conceptual publications\" .\\n\\n<https://w3id.org/digestgel/vocabularies/italian> rdfs:label \"italian\" .\\n\\n<https://w3id.org/digestgel/vocabularies/theoretical> rdfs:label \"theoretical\" .\\n\\n'\n",
            "200\n",
            "sending request for 1671102923-883041\n",
            "API URL: https://projects.dharc.unibo.it/digestgel/import\n",
            "request sent 1671102923-883041 b'@prefix biro: <http://purl.org/spar/biro/> .\\n@prefix fabio: <http://purl.org/spar/fabio/> .\\n@prefix gce: <https://w3id.org/digestgel/> .\\n@prefix ns1: <http://purl.org/dc/terms/> .\\n@prefix ns2: <http://dbpedia.org/ontology/> .\\n@prefix prism: <http://prismstandard.org/namespaces/basic/2.0/> .\\n@prefix prov: <http://www.w3.org/ns/prov#> .\\n@prefix rdfs: <http://www.w3.org/2000/01/rdf-schema#> .\\n@prefix xsd: <http://www.w3.org/2001/XMLSchema#> .\\n\\ngce:1671102923-883041 a fabio:Book ;\\n    rdfs:label \"Una scuola per la cittadinanza. Idee, Percorsi, Contesti. Vol 2\" ;\\n    prism:publicationDate <https://w3id.org/digestgel/vocabularies/2020> ;\\n    ns1:language <https://w3id.org/digestgel/vocabularies/italian> ;\\n    ns1:publisher gce:1671102923-870595 ;\\n    ns1:title \"Una scuola per la cittadinanza. Idee, Percorsi, Contesti. Vol 2\" ;\\n    biro:isReferencedBy \"Ambel, Mario (2020). Una scuola per la cittadinanza. Idee, Percorsi, Contesti. Vol 2. Piemme Edizioni\" ;\\n    fabio:hasPrimarySubjectTerm <https://w3id.org/digestgel/vocabularies/teacher-education> ;\\n    fabio:hasSubjectTerm <https://w3id.org/digestgel/vocabularies/training-of-trainers> ;\\n    gce:firstAuthor gce:1671102923-870447 .\\n\\n<https://w3id.org/digestgel/1671102923-883041/> rdfs:label \"Ambel, Mario (2020). Una scuola per la cittadinanza. Idee, Percorsi, Contesti. Vol 2. Piemme Edizioni\" ;\\n    ns2:currentStatus \"published\" ;\\n    prov:generatedAtTime \"2022-12-15T11:15:26.302580\"^^xsd:dateTime ;\\n    prov:wasAttributedTo gce:marilena-dot-daquino2-at-unibo-dot-it .\\n\\ngce:1671102923-870447 rdfs:label \"Ambel, Mario\" .\\n\\ngce:1671102923-870595 rdfs:label \"Piemme Edizioni\" .\\n\\ngce:marilena-dot-daquino2-at-unibo-dot-it rdfs:label \"marilena.daquino2@unibo.it\" .\\n\\n<https://w3id.org/digestgel/vocabularies/2020> rdfs:label \"2020\" .\\n\\n<https://w3id.org/digestgel/vocabularies/italian> rdfs:label \"italian\" .\\n\\n<https://w3id.org/digestgel/vocabularies/teacher-education> rdfs:label \"teacher education\" .\\n\\n<https://w3id.org/digestgel/vocabularies/training-of-trainers> rdfs:label \"training of trainers\" .\\n\\n'\n",
            "200\n",
            "sending request for 1671102923-883097\n",
            "API URL: https://projects.dharc.unibo.it/digestgel/import\n",
            "request sent 1671102923-883097 b'@prefix biro: <http://purl.org/spar/biro/> .\\n@prefix fabio: <http://purl.org/spar/fabio/> .\\n@prefix gce: <https://w3id.org/digestgel/> .\\n@prefix ns1: <http://purl.org/dc/terms/> .\\n@prefix ns2: <http://dbpedia.org/ontology/> .\\n@prefix prism: <http://prismstandard.org/namespaces/basic/2.0/> .\\n@prefix prov: <http://www.w3.org/ns/prov#> .\\n@prefix rdfs: <http://www.w3.org/2000/01/rdf-schema#> .\\n@prefix xsd: <http://www.w3.org/2001/XMLSchema#> .\\n\\ngce:1671102923-883097 a fabio:Book ;\\n    rdfs:label \"La casa della pace. Un progetto educativo in divenire\" ;\\n    prism:publicationDate <https://w3id.org/digestgel/vocabularies/2021> ;\\n    ns1:language <https://w3id.org/digestgel/vocabularies/italian> ;\\n    ns1:publisher gce:1671102923-87061 ;\\n    ns1:title \"La casa della pace. Un progetto educativo in divenire\" ;\\n    biro:isReferencedBy \"Simeone, Domenico; Zani, Vincenzo (2021). La casa della pace. Un progetto educativo in divenire. Vita e Pensiero Editrice\" ;\\n    fabio:hasPrimarySubjectTerm <https://w3id.org/digestgel/vocabularies/community-work> ;\\n    fabio:hasSubjectTerm <https://w3id.org/digestgel/vocabularies/informal-education-including-youth-work> ;\\n    fabio:hasURL \"https://www.vitaepensiero.it/scheda-libro/autori-vari/la-casa-della-pace-9788834344774-371044.html\" ;\\n    gce:firstAuthor gce:1671008214-83892 ;\\n    gce:secondAuthor gce:1671102923-870565 .\\n\\n<https://w3id.org/digestgel/1671102923-883097/> rdfs:label \"Simeone, Domenico; Zani, Vincenzo (2021). La casa della pace. Un progetto educativo in divenire. Vita e Pensiero Editrice\" ;\\n    ns2:currentStatus \"published\" ;\\n    prov:generatedAtTime \"2022-12-15T11:15:27.237066\"^^xsd:dateTime ;\\n    prov:wasAttributedTo gce:marilena-dot-daquino2-at-unibo-dot-it .\\n\\ngce:1671008214-83892 rdfs:label \"Simeone, Domenico\" .\\n\\ngce:1671102923-870565 rdfs:label \"Zani, Vincenzo\" .\\n\\ngce:1671102923-87061 rdfs:label \"Vita e Pensiero Editrice\" .\\n\\ngce:marilena-dot-daquino2-at-unibo-dot-it rdfs:label \"marilena.daquino2@unibo.it\" .\\n\\n<https://w3id.org/digestgel/vocabularies/2021> rdfs:label \"2021\" .\\n\\n<https://w3id.org/digestgel/vocabularies/community-work> rdfs:label \"community work\" .\\n\\n<https://w3id.org/digestgel/vocabularies/informal-education-including-youth-work> rdfs:label \"informal education including youth work\" .\\n\\n<https://w3id.org/digestgel/vocabularies/italian> rdfs:label \"italian\" .\\n\\n'\n",
            "200\n",
            "sending request for 1671102923-883194\n",
            "API URL: https://projects.dharc.unibo.it/digestgel/import\n",
            "request sent 1671102923-883194 b'@prefix biro: <http://purl.org/spar/biro/> .\\n@prefix fabio: <http://purl.org/spar/fabio/> .\\n@prefix frbr: <http://purl.org/vocab/frbr/core#> .\\n@prefix gce: <https://w3id.org/digestgel/> .\\n@prefix ns1: <http://purl.org/dc/terms/> .\\n@prefix ns2: <http://dbpedia.org/ontology/> .\\n@prefix prism: <http://prismstandard.org/namespaces/basic/2.0/> .\\n@prefix prov: <http://www.w3.org/ns/prov#> .\\n@prefix rdfs: <http://www.w3.org/2000/01/rdf-schema#> .\\n@prefix xsd: <http://www.w3.org/2001/XMLSchema#> .\\n\\ngce:1671102923-883194 a fabio:BookChapter ;\\n    rdfs:label \"Cittadinanza e sviluppo sostenibile: il ruolo di Agenda 2030 nell\\'Educazione civica\" ;\\n    prism:publicationDate <https://w3id.org/digestgel/vocabularies/2021> ;\\n    ns1:language <https://w3id.org/digestgel/vocabularies/italian> ;\\n    ns1:publisher gce:1653893507-245298 ;\\n    ns1:title \"Cittadinanza e sviluppo sostenibile: il ruolo di Agenda 2030 nell\\'Educazione civica\" ;\\n    biro:isReferencedBy \"Porcarelli, Andrea (2021). Cittadinanza e sviluppo sostenibile: il ruolo di Agenda 2030 nell\\'Educazione civica.Cittadinanza europea, Costituzione e Diritti: l\\'educazione come strumento di democrazia. Il progetto #ShareEU. Pensa MultiMedia\" ;\\n    fabio:hasPrimarySubjectTerm <https://w3id.org/digestgel/vocabularies/policy-related-research> ;\\n    fabio:hasURL \"http://hdl.handle.net/11577/3443109\" ;\\n    frbr:partOf gce:1671102923-870632 ;\\n    gce:firstAuthor gce:1671102923-87053 ;\\n    gce:firstEditor gce:1671102923-870521 ;\\n    gce:secondEditor gce:1671102923-870534 .\\n\\n<https://w3id.org/digestgel/1671102923-883194/> rdfs:label \"Porcarelli, Andrea (2021). Cittadinanza e sviluppo sostenibile: il ruolo di Agenda 2030 nell\\'Educazione civica.Cittadinanza europea, Costituzione e Diritti: l\\'educazione come strumento di democrazia. Il progetto #ShareEU. Pensa MultiMedia\" ;\\n    ns2:currentStatus \"published\" ;\\n    prov:generatedAtTime \"2022-12-15T11:15:27.991043\"^^xsd:dateTime ;\\n    prov:wasAttributedTo gce:marilena-dot-daquino2-at-unibo-dot-it .\\n\\ngce:1653893507-245298 rdfs:label \"Pensa MultiMedia\" .\\n\\ngce:1671102923-870521 rdfs:label \"Nuzzaci, Antonella\" .\\n\\ngce:1671102923-87053 rdfs:label \"Porcarelli, Andrea\" .\\n\\ngce:1671102923-870534 rdfs:label \"Rizzi Paola\" .\\n\\ngce:1671102923-870632 rdfs:label \"Cittadinanza europea, Costituzione e Diritti: l\\'educazione come strumento di democrazia. Il progetto #ShareEU\" .\\n\\ngce:marilena-dot-daquino2-at-unibo-dot-it rdfs:label \"marilena.daquino2@unibo.it\" .\\n\\n<https://w3id.org/digestgel/vocabularies/2021> rdfs:label \"2021\" .\\n\\n<https://w3id.org/digestgel/vocabularies/italian> rdfs:label \"italian\" .\\n\\n<https://w3id.org/digestgel/vocabularies/policy-related-research> rdfs:label \"policy related research\" .\\n\\n'\n",
            "200\n",
            "sending request for 1671102923-883253\n",
            "API URL: https://projects.dharc.unibo.it/digestgel/import\n",
            "request sent 1671102923-883253 b'@prefix biro: <http://purl.org/spar/biro/> .\\n@prefix fabio: <http://purl.org/spar/fabio/> .\\n@prefix frbr: <http://purl.org/vocab/frbr/core#> .\\n@prefix gce: <https://w3id.org/digestgel/> .\\n@prefix ns1: <http://purl.org/dc/terms/> .\\n@prefix ns2: <http://dbpedia.org/ontology/> .\\n@prefix prism: <http://prismstandard.org/namespaces/basic/2.0/> .\\n@prefix prov: <http://www.w3.org/ns/prov#> .\\n@prefix rdfs: <http://www.w3.org/2000/01/rdf-schema#> .\\n@prefix xsd: <http://www.w3.org/2001/XMLSchema#> .\\n\\ngce:1671102923-883253 a fabio:BookChapter ;\\n    rdfs:label \"Per una cittadinanza globale. Scuola per la cittadinanza : idee, percorsi, contesti\" ;\\n    prism:pageRange \"133-138\" ;\\n    prism:publicationDate <https://w3id.org/digestgel/vocabularies/2020> ;\\n    ns1:language <https://w3id.org/digestgel/vocabularies/italian> ;\\n    ns1:publisher gce:1671102923-870595 ;\\n    ns1:title \"Per una cittadinanza globale. Scuola per la cittadinanza : idee, percorsi, contesti\" ;\\n    biro:isReferencedBy \"Caruso, Angela (2020). Per una cittadinanza globale. Scuola per la cittadinanza : idee, percorsi, contesti.Una scuola per la cittadinanza. Piemme Edizioni, 133-138\" ;\\n    fabio:hasPrimarySubjectTerm <https://w3id.org/digestgel/vocabularies/teacher-education> ;\\n    fabio:hasSubjectTerm <https://w3id.org/digestgel/vocabularies/training-of-trainers> ;\\n    frbr:partOf gce:1671102923-870637 ;\\n    gce:firstAuthor gce:1671102923-870477 ;\\n    gce:firstEditor gce:1671102923-870447 .\\n\\n<https://w3id.org/digestgel/1671102923-883253/> rdfs:label \"Caruso, Angela (2020). Per una cittadinanza globale. Scuola per la cittadinanza : idee, percorsi, contesti.Una scuola per la cittadinanza. Piemme Edizioni, 133-138\" ;\\n    ns2:currentStatus \"published\" ;\\n    prov:generatedAtTime \"2022-12-15T11:15:28.783956\"^^xsd:dateTime ;\\n    prov:wasAttributedTo gce:marilena-dot-daquino2-at-unibo-dot-it .\\n\\ngce:1671102923-870447 rdfs:label \"Ambel, Mario\" .\\n\\ngce:1671102923-870477 rdfs:label \"Caruso, Angela\" .\\n\\ngce:1671102923-870595 rdfs:label \"Piemme Edizioni\" .\\n\\ngce:1671102923-870637 rdfs:label \"Una scuola per la cittadinanza\" .\\n\\ngce:marilena-dot-daquino2-at-unibo-dot-it rdfs:label \"marilena.daquino2@unibo.it\" .\\n\\n<https://w3id.org/digestgel/vocabularies/2020> rdfs:label \"2020\" .\\n\\n<https://w3id.org/digestgel/vocabularies/italian> rdfs:label \"italian\" .\\n\\n<https://w3id.org/digestgel/vocabularies/teacher-education> rdfs:label \"teacher education\" .\\n\\n<https://w3id.org/digestgel/vocabularies/training-of-trainers> rdfs:label \"training of trainers\" .\\n\\n'\n",
            "200\n",
            "sending request for 1671102923-883309\n",
            "API URL: https://projects.dharc.unibo.it/digestgel/import\n",
            "request sent 1671102923-883309 b'@prefix biro: <http://purl.org/spar/biro/> .\\n@prefix fabio: <http://purl.org/spar/fabio/> .\\n@prefix frbr: <http://purl.org/vocab/frbr/core#> .\\n@prefix gce: <https://w3id.org/digestgel/> .\\n@prefix ns1: <http://purl.org/dc/terms/> .\\n@prefix ns2: <http://dbpedia.org/ontology/> .\\n@prefix prism: <http://prismstandard.org/namespaces/basic/2.0/> .\\n@prefix prov: <http://www.w3.org/ns/prov#> .\\n@prefix rdfs: <http://www.w3.org/2000/01/rdf-schema#> .\\n@prefix xsd: <http://www.w3.org/2001/XMLSchema#> .\\n\\ngce:1671102923-883309 a fabio:BookChapter ;\\n    rdfs:label \"L\\xe2\\x80\\x99incontro con l\\xe2\\x80\\x99Altro per l\\xe2\\x80\\x99Educazione alla Cittadinanza Globale. Riflessioni dalla valutazione d\\xe2\\x80\\x99impatto del caso \\xe2\\x80\\x9cDIMMI di storie migranti\\xe2\\x80\\x9d\" ;\\n    prism:publicationDate <https://w3id.org/digestgel/vocabularies/2021> ;\\n    ns1:language <https://w3id.org/digestgel/vocabularies/italian> ;\\n    ns1:publisher gce:1671102923-870573 ;\\n    ns1:title \"L\\xe2\\x80\\x99incontro con l\\xe2\\x80\\x99Altro per l\\xe2\\x80\\x99Educazione alla Cittadinanza Globale. Riflessioni dalla valutazione d\\xe2\\x80\\x99impatto del caso \\xe2\\x80\\x9cDIMMI di storie migranti\\xe2\\x80\\x9d\" ;\\n    biro:isReferencedBy \"Galligani, Ivan (2021). L\\xe2\\x80\\x99incontro con l\\xe2\\x80\\x99Altro per l\\xe2\\x80\\x99Educazione alla Cittadinanza Globale. Riflessioni dalla valutazione d\\xe2\\x80\\x99impatto del caso \\xe2\\x80\\x9cDIMMI di storie migranti\\xe2\\x80\\x9d.CONFINI, IDENTIT\\xc3\\x80 E CITTADINANZA Uno sguardo multidisciplinare. Edizioni ETS\" ;\\n    fabio:hasPrimarySubjectTerm <https://w3id.org/digestgel/vocabularies/conceptual-publications> ;\\n    fabio:hasSubjectTerm <https://w3id.org/digestgel/vocabularies/theoretical> ;\\n    fabio:hasURL \"https://www.edizioniets.com/priv_file_libro/4287.pdf\" ;\\n    frbr:partOf gce:1671102923-870627 ;\\n    gce:firstAuthor gce:1671102923-870494 ;\\n    gce:firstEditor gce:1671102923-87049 ;\\n    gce:secondEditor gce:1671102923-870507 .\\n\\n<https://w3id.org/digestgel/1671102923-883309/> rdfs:label \"Galligani, Ivan (2021). L\\xe2\\x80\\x99incontro con l\\xe2\\x80\\x99Altro per l\\xe2\\x80\\x99Educazione alla Cittadinanza Globale. Riflessioni dalla valutazione d\\xe2\\x80\\x99impatto del caso \\xe2\\x80\\x9cDIMMI di storie migranti\\xe2\\x80\\x9d.CONFINI, IDENTIT\\xc3\\x80 E CITTADINANZA Uno sguardo multidisciplinare. Edizioni ETS\" ;\\n    ns2:currentStatus \"published\" ;\\n    prov:generatedAtTime \"2022-12-15T11:15:29.510502\"^^xsd:dateTime ;\\n    prov:wasAttributedTo gce:marilena-dot-daquino2-at-unibo-dot-it .\\n\\ngce:1671102923-87049 rdfs:label \"De Toffoli, Matteo\" .\\n\\ngce:1671102923-870494 rdfs:label \"Galligani, Ivan\" .\\n\\ngce:1671102923-870507 rdfs:label \"Laneri, Calogero\" .\\n\\ngce:1671102923-870573 rdfs:label \"Edizioni ETS\" .\\n\\ngce:1671102923-870627 rdfs:label \"CONFINI, IDENTIT\\xc3\\x80 E CITTADINANZA Uno sguardo multidisciplinare\" .\\n\\ngce:marilena-dot-daquino2-at-unibo-dot-it rdfs:label \"marilena.daquino2@unibo.it\" .\\n\\n<https://w3id.org/digestgel/vocabularies/2021> rdfs:label \"2021\" .\\n\\n<https://w3id.org/digestgel/vocabularies/conceptual-publications> rdfs:label \"conceptual publications\" .\\n\\n<https://w3id.org/digestgel/vocabularies/italian> rdfs:label \"italian\" .\\n\\n<https://w3id.org/digestgel/vocabularies/theoretical> rdfs:label \"theoretical\" .\\n\\n'\n",
            "200\n",
            "sending request for 1671102923-883366\n",
            "API URL: https://projects.dharc.unibo.it/digestgel/import\n",
            "request sent 1671102923-883366 b'@prefix biro: <http://purl.org/spar/biro/> .\\n@prefix fabio: <http://purl.org/spar/fabio/> .\\n@prefix gce: <https://w3id.org/digestgel/> .\\n@prefix ns1: <http://purl.org/dc/terms/> .\\n@prefix ns2: <http://dbpedia.org/ontology/> .\\n@prefix prism: <http://prismstandard.org/namespaces/basic/2.0/> .\\n@prefix prov: <http://www.w3.org/ns/prov#> .\\n@prefix rdfs: <http://www.w3.org/2000/01/rdf-schema#> .\\n@prefix xsd: <http://www.w3.org/2001/XMLSchema#> .\\n\\ngce:1671102923-883366 a fabio:DoctoralThesis ;\\n    rdfs:label \"La pedagogia di Paulo Freire nelle societa\\xcc\\x80 multiculturali\" ;\\n    prism:publicationDate <https://w3id.org/digestgel/vocabularies/2008> ;\\n    ns1:language <https://w3id.org/digestgel/vocabularies/italian> ;\\n    ns1:publisher gce:1671102923-870606 ;\\n    ns1:title \"La pedagogia di Paulo Freire nelle societa\\xcc\\x80 multiculturali\" ;\\n    biro:isReferencedBy \"Tagliavia, Alfredo (2008). La pedagogia di Paulo Freire nelle societa\\xcc\\x80 multiculturali. Universita\\xcc\\x80 degli studi RomaTre\" ;\\n    fabio:hasPrimarySubjectTerm <https://w3id.org/digestgel/vocabularies/conceptual-publications> ;\\n    fabio:hasSubjectTerm <https://w3id.org/digestgel/vocabularies/theoretical> ;\\n    fabio:hasURL \"http://hdl.handle.net/2307/5060\" ;\\n    gce:firstAuthor gce:1671102923-870542 .\\n\\n<https://w3id.org/digestgel/1671102923-883366/> rdfs:label \"Tagliavia, Alfredo (2008). La pedagogia di Paulo Freire nelle societa\\xcc\\x80 multiculturali. Universita\\xcc\\x80 degli studi RomaTre\" ;\\n    ns2:currentStatus \"published\" ;\\n    prov:generatedAtTime \"2022-12-15T11:15:30.251107\"^^xsd:dateTime ;\\n    prov:wasAttributedTo gce:marilena-dot-daquino2-at-unibo-dot-it .\\n\\ngce:1671102923-870542 rdfs:label \"Tagliavia, Alfredo\" .\\n\\ngce:1671102923-870606 rdfs:label \"Universita\\xcc\\x80 degli studi RomaTre\" .\\n\\ngce:marilena-dot-daquino2-at-unibo-dot-it rdfs:label \"marilena.daquino2@unibo.it\" .\\n\\n<https://w3id.org/digestgel/vocabularies/2008> rdfs:label \"2008\" .\\n\\n<https://w3id.org/digestgel/vocabularies/conceptual-publications> rdfs:label \"conceptual publications\" .\\n\\n<https://w3id.org/digestgel/vocabularies/italian> rdfs:label \"italian\" .\\n\\n<https://w3id.org/digestgel/vocabularies/theoretical> rdfs:label \"theoretical\" .\\n\\n'\n",
            "200\n",
            "sending request for 1671102923-883421\n",
            "API URL: https://projects.dharc.unibo.it/digestgel/import\n",
            "request sent 1671102923-883421 b'@prefix biro: <http://purl.org/spar/biro/> .\\n@prefix fabio: <http://purl.org/spar/fabio/> .\\n@prefix gce: <https://w3id.org/digestgel/> .\\n@prefix ns1: <http://purl.org/dc/terms/> .\\n@prefix ns2: <http://dbpedia.org/ontology/> .\\n@prefix prism: <http://prismstandard.org/namespaces/basic/2.0/> .\\n@prefix prov: <http://www.w3.org/ns/prov#> .\\n@prefix rdfs: <http://www.w3.org/2000/01/rdf-schema#> .\\n@prefix xsd: <http://www.w3.org/2001/XMLSchema#> .\\n\\ngce:1671102923-883421 a fabio:DoctoralThesis ;\\n    rdfs:label \"Una lezione in aula per l\\'Educazione alla Cittadinanza Globale. Uno studio esplorativo-descrittivo in Italia e in Australia\" ;\\n    prism:publicationDate <https://w3id.org/digestgel/vocabularies/2021> ;\\n    ns1:language <https://w3id.org/digestgel/vocabularies/italian> ;\\n    ns1:publisher gce:1671102923-870586 ;\\n    ns1:title \"Una lezione in aula per l\\'Educazione alla Cittadinanza Globale. Uno studio esplorativo-descrittivo in Italia e in Australia\" ;\\n    biro:isReferencedBy \"Caccioppola, Federica (2021). Una lezione in aula per l\\'Educazione alla Cittadinanza Globale. Uno studio esplorativo-descrittivo in Italia e in Australia. LUMSA\" ;\\n    fabio:hasPrimarySubjectTerm <https://w3id.org/digestgel/vocabularies/formal-education> ;\\n    fabio:hasURL \"http://ricercascientifica.lumsa.it/handle/40337\" ;\\n    gce:firstAuthor gce:1671102923-870472 .\\n\\n<https://w3id.org/digestgel/1671102923-883421/> rdfs:label \"Caccioppola, Federica (2021). Una lezione in aula per l\\'Educazione alla Cittadinanza Globale. Uno studio esplorativo-descrittivo in Italia e in Australia. LUMSA\" ;\\n    ns2:currentStatus \"published\" ;\\n    prov:generatedAtTime \"2022-12-15T11:15:30.969714\"^^xsd:dateTime ;\\n    prov:wasAttributedTo gce:marilena-dot-daquino2-at-unibo-dot-it .\\n\\ngce:1671102923-870472 rdfs:label \"Caccioppola, Federica\" .\\n\\ngce:1671102923-870586 rdfs:label \"LUMSA\" .\\n\\ngce:marilena-dot-daquino2-at-unibo-dot-it rdfs:label \"marilena.daquino2@unibo.it\" .\\n\\n<https://w3id.org/digestgel/vocabularies/2021> rdfs:label \"2021\" .\\n\\n<https://w3id.org/digestgel/vocabularies/formal-education> rdfs:label \"formal education\" .\\n\\n<https://w3id.org/digestgel/vocabularies/italian> rdfs:label \"italian\" .\\n\\n'\n",
            "200\n",
            "sending request for 1671102923-883476\n",
            "API URL: https://projects.dharc.unibo.it/digestgel/import\n",
            "request sent 1671102923-883476 b'@prefix biro: <http://purl.org/spar/biro/> .\\n@prefix fabio: <http://purl.org/spar/fabio/> .\\n@prefix gce: <https://w3id.org/digestgel/> .\\n@prefix ns1: <http://purl.org/dc/terms/> .\\n@prefix ns2: <http://dbpedia.org/ontology/> .\\n@prefix prism: <http://prismstandard.org/namespaces/basic/2.0/> .\\n@prefix prov: <http://www.w3.org/ns/prov#> .\\n@prefix rdfs: <http://www.w3.org/2000/01/rdf-schema#> .\\n@prefix xsd: <http://www.w3.org/2001/XMLSchema#> .\\n\\ngce:1671102923-883476 a fabio:ReportDocument ;\\n    rdfs:label \"Educazione alla cittadinanza mondiale. Nuovi percorsi per una cittadinanza attiva con una prospettiva globale attraverso un\\'educazione non formale e informale\" ;\\n    prism:publicationDate <https://w3id.org/digestgel/vocabularies/2019> ;\\n    ns1:language <https://w3id.org/digestgel/vocabularies/italian> ;\\n    ns1:publisher gce:1653893507-2455 ;\\n    ns1:title \"Educazione alla cittadinanza mondiale. Nuovi percorsi per una cittadinanza attiva con una prospettiva globale attraverso un\\'educazione non formale e informale\" ;\\n    biro:isReferencedBy \"UNESCO (2019). Educazione alla cittadinanza mondiale. Nuovi percorsi per una cittadinanza attiva con una prospettiva globale attraverso un\\'educazione non formale e informale. UNESCO\" ;\\n    fabio:hasPrimarySubjectTerm <https://w3id.org/digestgel/vocabularies/policy-related-research> ;\\n    fabio:hasURL \"https://www.unesco.ch/wp-content/uploads/2019/06/GCED_A5_IT.pdf\" ;\\n    gce:firstAuthor gce:1653893507-239402 .\\n\\n<https://w3id.org/digestgel/1671102923-883476/> rdfs:label \"UNESCO (2019). Educazione alla cittadinanza mondiale. Nuovi percorsi per una cittadinanza attiva con una prospettiva globale attraverso un\\'educazione non formale e informale. UNESCO\" ;\\n    ns2:currentStatus \"published\" ;\\n    prov:generatedAtTime \"2022-12-15T11:15:31.693464\"^^xsd:dateTime ;\\n    prov:wasAttributedTo gce:marilena-dot-daquino2-at-unibo-dot-it .\\n\\ngce:1653893507-239402 rdfs:label \"UNESCO\" .\\n\\ngce:1653893507-2455 rdfs:label \"UNESCO\" .\\n\\ngce:marilena-dot-daquino2-at-unibo-dot-it rdfs:label \"marilena.daquino2@unibo.it\" .\\n\\n<https://w3id.org/digestgel/vocabularies/2019> rdfs:label \"2019\" .\\n\\n<https://w3id.org/digestgel/vocabularies/italian> rdfs:label \"italian\" .\\n\\n<https://w3id.org/digestgel/vocabularies/policy-related-research> rdfs:label \"policy related research\" .\\n\\n'\n",
            "200\n",
            "sending request for 1671102923-883532\n",
            "API URL: https://projects.dharc.unibo.it/digestgel/import\n",
            "request sent 1671102923-883532 b'@prefix biro: <http://purl.org/spar/biro/> .\\n@prefix fabio: <http://purl.org/spar/fabio/> .\\n@prefix gce: <https://w3id.org/digestgel/> .\\n@prefix ns1: <http://dbpedia.org/ontology/> .\\n@prefix ns2: <http://purl.org/dc/terms/> .\\n@prefix prism: <http://prismstandard.org/namespaces/basic/2.0/> .\\n@prefix prov: <http://www.w3.org/ns/prov#> .\\n@prefix rdfs: <http://www.w3.org/2000/01/rdf-schema#> .\\n@prefix xsd: <http://www.w3.org/2001/XMLSchema#> .\\n\\ngce:1671102923-883532 a fabio:ReportDocument ;\\n    rdfs:label \"Educazione alla Cittadinanza Globale. Global issues - Global Subject\" ;\\n    prism:publicationDate <https://w3id.org/digestgel/vocabularies/2018> ;\\n    ns2:language <https://w3id.org/digestgel/vocabularies/italian> ;\\n    ns2:title \"Educazione alla Cittadinanza Globale. Global issues - Global Subject\" ;\\n    biro:isReferencedBy \"Grion, Valentina; Da Re, Lorenza; Tino, Concetta; Bonel, Roberta (2018). Educazione alla Cittadinanza Globale. Global issues - Global Subject.\" ;\\n    fabio:hasPrimarySubjectTerm <https://w3id.org/digestgel/vocabularies/teacher-education> ;\\n    fabio:hasSubjectTerm <https://w3id.org/digestgel/vocabularies/training-of-trainers> ;\\n    fabio:hasURL \"https://www.acs-italia.it/wp-content/uploads/2018/09/Report-Ricerca-GIGS-Grion-et-al.-2018.pdf\" ;\\n    gce:firstAuthor gce:1671102923-870499 ;\\n    gce:fourthAuthor gce:1671102923-870466 ;\\n    gce:secondAuthor gce:1671102923-870481 ;\\n    gce:thirdAuthor gce:1671102923-870546 .\\n\\n<https://w3id.org/digestgel/1671102923-883532/> rdfs:label \"Grion, Valentina; Da Re, Lorenza; Tino, Concetta; Bonel, Roberta (2018). Educazione alla Cittadinanza Globale. Global issues - Global Subject.\" ;\\n    ns1:currentStatus \"published\" ;\\n    prov:generatedAtTime \"2022-12-15T11:15:32.438383\"^^xsd:dateTime ;\\n    prov:wasAttributedTo gce:marilena-dot-daquino2-at-unibo-dot-it .\\n\\ngce:1671102923-870466 rdfs:label \"Bonel, Roberta\" .\\n\\ngce:1671102923-870481 rdfs:label \"Da Re, Lorenza\" .\\n\\ngce:1671102923-870499 rdfs:label \"Grion, Valentina\" .\\n\\ngce:1671102923-870546 rdfs:label \"Tino, Concetta\" .\\n\\ngce:marilena-dot-daquino2-at-unibo-dot-it rdfs:label \"marilena.daquino2@unibo.it\" .\\n\\n<https://w3id.org/digestgel/vocabularies/2018> rdfs:label \"2018\" .\\n\\n<https://w3id.org/digestgel/vocabularies/italian> rdfs:label \"italian\" .\\n\\n<https://w3id.org/digestgel/vocabularies/teacher-education> rdfs:label \"teacher education\" .\\n\\n<https://w3id.org/digestgel/vocabularies/training-of-trainers> rdfs:label \"training of trainers\" .\\n\\n'\n",
            "200\n",
            "sending request for 1671102923-883586\n",
            "API URL: https://projects.dharc.unibo.it/digestgel/import\n",
            "request sent 1671102923-883586 b'@prefix biro: <http://purl.org/spar/biro/> .\\n@prefix fabio: <http://purl.org/spar/fabio/> .\\n@prefix gce: <https://w3id.org/digestgel/> .\\n@prefix ns1: <http://dbpedia.org/ontology/> .\\n@prefix ns2: <http://purl.org/dc/terms/> .\\n@prefix prism: <http://prismstandard.org/namespaces/basic/2.0/> .\\n@prefix prov: <http://www.w3.org/ns/prov#> .\\n@prefix rdfs: <http://www.w3.org/2000/01/rdf-schema#> .\\n@prefix xsd: <http://www.w3.org/2001/XMLSchema#> .\\n\\ngce:1671102923-883586 a fabio:ReportDocument ;\\n    rdfs:label \"Educazione alla Cittadinanza Globale. Policy Brief\" ;\\n    prism:publicationDate <https://w3id.org/digestgel/vocabularies/2020> ;\\n    ns2:language <https://w3id.org/digestgel/vocabularies/italian> ;\\n    ns2:publisher gce:1671102923-870614 ;\\n    ns2:title \"Educazione alla Cittadinanza Globale. Policy Brief\" ;\\n    biro:isReferencedBy \"WE WORLD (2020). Educazione alla Cittadinanza Globale. Policy Brief. We World\" ;\\n    fabio:hasPrimarySubjectTerm <https://w3id.org/digestgel/vocabularies/policy-related-research> ;\\n    fabio:hasURL \"https://ejbn4fjvt9h.exactdn.com\" ;\\n    gce:firstAuthor gce:1671102923-87056 .\\n\\n<https://w3id.org/digestgel/1671102923-883586/> rdfs:label \"WE WORLD (2020). Educazione alla Cittadinanza Globale. Policy Brief. We World\" ;\\n    ns1:currentStatus \"published\" ;\\n    prov:generatedAtTime \"2022-12-15T11:15:33.193450\"^^xsd:dateTime ;\\n    prov:wasAttributedTo gce:marilena-dot-daquino2-at-unibo-dot-it .\\n\\ngce:1671102923-87056 rdfs:label \"WE WORLD\" .\\n\\ngce:1671102923-870614 rdfs:label \"We World\" .\\n\\ngce:marilena-dot-daquino2-at-unibo-dot-it rdfs:label \"marilena.daquino2@unibo.it\" .\\n\\n<https://w3id.org/digestgel/vocabularies/2020> rdfs:label \"2020\" .\\n\\n<https://w3id.org/digestgel/vocabularies/italian> rdfs:label \"italian\" .\\n\\n<https://w3id.org/digestgel/vocabularies/policy-related-research> rdfs:label \"policy related research\" .\\n\\n'\n",
            "200\n",
            "sending request for 1671102923-883642\n",
            "API URL: https://projects.dharc.unibo.it/digestgel/import\n",
            "request sent 1671102923-883642 b'@prefix biro: <http://purl.org/spar/biro/> .\\n@prefix fabio: <http://purl.org/spar/fabio/> .\\n@prefix gce: <https://w3id.org/digestgel/> .\\n@prefix ns1: <http://purl.org/dc/terms/> .\\n@prefix ns2: <http://dbpedia.org/ontology/> .\\n@prefix prism: <http://prismstandard.org/namespaces/basic/2.0/> .\\n@prefix prov: <http://www.w3.org/ns/prov#> .\\n@prefix rdfs: <http://www.w3.org/2000/01/rdf-schema#> .\\n@prefix xsd: <http://www.w3.org/2001/XMLSchema#> .\\n\\ngce:1671102923-883642 a fabio:ReportDocument ;\\n    rdfs:label \"L\\'Educazione alla Cittadinanza Globale In Toscana. Toscana, DGR 15 settembre 2020, n. 1230\" ;\\n    prism:publicationDate <https://w3id.org/digestgel/vocabularies/2020> ;\\n    ns1:language <https://w3id.org/digestgel/vocabularies/italian> ;\\n    ns1:title \"L\\'Educazione alla Cittadinanza Globale In Toscana. Toscana, DGR 15 settembre 2020, n. 1230\" ;\\n    biro:isReferencedBy \"Libro Bianco (2020). L\\'Educazione alla Cittadinanza Globale In Toscana. Toscana, DGR 15 settembre 2020, n. 1230.\" ;\\n    fabio:hasPrimarySubjectTerm <https://w3id.org/digestgel/vocabularies/conceptual-publications> ;\\n    fabio:hasSubjectTerm <https://w3id.org/digestgel/vocabularies/theoretical> ;\\n    fabio:hasURL \"https://www.regione.toscana.it/documents/10180/23864036/Delibera_n.1230_del_15-09-2020-Allegato-A.pdf/11292c63-c475-059c-3b58-b110a89012d3?t=1602674289231\" ;\\n    gce:firstAuthor gce:1671102923-870512 .\\n\\n<https://w3id.org/digestgel/1671102923-883642/> rdfs:label \"Libro Bianco (2020). L\\'Educazione alla Cittadinanza Globale In Toscana. Toscana, DGR 15 settembre 2020, n. 1230.\" ;\\n    ns2:currentStatus \"published\" ;\\n    prov:generatedAtTime \"2022-12-15T11:15:33.909246\"^^xsd:dateTime ;\\n    prov:wasAttributedTo gce:marilena-dot-daquino2-at-unibo-dot-it .\\n\\ngce:1671102923-870512 rdfs:label \"Libro Bianco\" .\\n\\ngce:marilena-dot-daquino2-at-unibo-dot-it rdfs:label \"marilena.daquino2@unibo.it\" .\\n\\n<https://w3id.org/digestgel/vocabularies/2020> rdfs:label \"2020\" .\\n\\n<https://w3id.org/digestgel/vocabularies/conceptual-publications> rdfs:label \"conceptual publications\" .\\n\\n<https://w3id.org/digestgel/vocabularies/italian> rdfs:label \"italian\" .\\n\\n<https://w3id.org/digestgel/vocabularies/theoretical> rdfs:label \"theoretical\" .\\n\\n'\n",
            "200\n",
            "sending request for 1671102923-883696\n",
            "API URL: https://projects.dharc.unibo.it/digestgel/import\n",
            "request sent 1671102923-883696 b'@prefix biro: <http://purl.org/spar/biro/> .\\n@prefix fabio: <http://purl.org/spar/fabio/> .\\n@prefix gce: <https://w3id.org/digestgel/> .\\n@prefix ns1: <http://purl.org/dc/terms/> .\\n@prefix ns2: <http://dbpedia.org/ontology/> .\\n@prefix prism: <http://prismstandard.org/namespaces/basic/2.0/> .\\n@prefix prov: <http://www.w3.org/ns/prov#> .\\n@prefix rdfs: <http://www.w3.org/2000/01/rdf-schema#> .\\n@prefix xsd: <http://www.w3.org/2001/XMLSchema#> .\\n\\ngce:1671102923-883696 a fabio:ReportDocument ;\\n    rdfs:label \"Educazione allo sviluppo sostenibile. Una tabella di marcia\" ;\\n    prism:publicationDate <https://w3id.org/digestgel/vocabularies/2021> ;\\n    ns1:language <https://w3id.org/digestgel/vocabularies/italian> ;\\n    ns1:publisher gce:1653893507-2455 ;\\n    ns1:title \"Educazione allo sviluppo sostenibile. Una tabella di marcia\" ;\\n    biro:isReferencedBy \"UNESCO (2021). Educazione allo sviluppo sostenibile. Una tabella di marcia. UNESCO\" ;\\n    fabio:hasPrimarySubjectTerm <https://w3id.org/digestgel/vocabularies/policy-related-research> ;\\n    fabio:hasURL \"http://unescoblob.blob.core.windows.net/pdf/UploadCKEditor/ESD%202030%20Una%20tabella%20di%20marcia%20DEF.pdf\" ;\\n    gce:firstAuthor gce:1653893507-239402 .\\n\\n<https://w3id.org/digestgel/1671102923-883696/> rdfs:label \"UNESCO (2021). Educazione allo sviluppo sostenibile. Una tabella di marcia. UNESCO\" ;\\n    ns2:currentStatus \"published\" ;\\n    prov:generatedAtTime \"2022-12-15T11:15:34.655820\"^^xsd:dateTime ;\\n    prov:wasAttributedTo gce:marilena-dot-daquino2-at-unibo-dot-it .\\n\\ngce:1653893507-239402 rdfs:label \"UNESCO\" .\\n\\ngce:1653893507-2455 rdfs:label \"UNESCO\" .\\n\\ngce:marilena-dot-daquino2-at-unibo-dot-it rdfs:label \"marilena.daquino2@unibo.it\" .\\n\\n<https://w3id.org/digestgel/vocabularies/2021> rdfs:label \"2021\" .\\n\\n<https://w3id.org/digestgel/vocabularies/italian> rdfs:label \"italian\" .\\n\\n<https://w3id.org/digestgel/vocabularies/policy-related-research> rdfs:label \"policy related research\" .\\n\\n'\n",
            "200\n",
            "sending request for 1671102923-883751\n",
            "API URL: https://projects.dharc.unibo.it/digestgel/import\n",
            "request sent 1671102923-883751 b'@prefix biro: <http://purl.org/spar/biro/> .\\n@prefix fabio: <http://purl.org/spar/fabio/> .\\n@prefix gce: <https://w3id.org/digestgel/> .\\n@prefix ns1: <http://purl.org/dc/terms/> .\\n@prefix ns2: <http://dbpedia.org/ontology/> .\\n@prefix prism: <http://prismstandard.org/namespaces/basic/2.0/> .\\n@prefix prov: <http://www.w3.org/ns/prov#> .\\n@prefix rdfs: <http://www.w3.org/2000/01/rdf-schema#> .\\n@prefix xsd: <http://www.w3.org/2001/XMLSchema#> .\\n\\ngce:1671102923-883751 a fabio:ReportDocument ;\\n    rdfs:label \"Educazione alla cittadinanza globale. Come misurare e migliorare l\\'impatto\" ;\\n    prism:publicationDate <https://w3id.org/digestgel/vocabularies/2021> ;\\n    ns1:language <https://w3id.org/digestgel/vocabularies/italian> ;\\n    ns1:title \"Educazione alla cittadinanza globale. Come misurare e migliorare l\\'impatto\" ;\\n    biro:isReferencedBy \"VV.AA. (2021). Educazione alla cittadinanza globale. Come misurare e migliorare l\\'impatto.\" ;\\n    fabio:hasPrimarySubjectTerm <https://w3id.org/digestgel/vocabularies/policy-related-research> ;\\n    fabio:hasURL \"https://www.ongpiemonte.it/wp-content/uploads/2020/12/Frame-Voice-Report_Come-misurare-e-migliorare-limpatto.pdf\" ;\\n    gce:firstAuthor gce:1653893507-239467 .\\n\\n<https://w3id.org/digestgel/1671102923-883751/> rdfs:label \"VV.AA. (2021). Educazione alla cittadinanza globale. Come misurare e migliorare l\\'impatto.\" ;\\n    ns2:currentStatus \"published\" ;\\n    prov:generatedAtTime \"2022-12-15T11:15:35.389476\"^^xsd:dateTime ;\\n    prov:wasAttributedTo gce:marilena-dot-daquino2-at-unibo-dot-it .\\n\\ngce:1653893507-239467 rdfs:label \"VV.AA.\" .\\n\\ngce:marilena-dot-daquino2-at-unibo-dot-it rdfs:label \"marilena.daquino2@unibo.it\" .\\n\\n<https://w3id.org/digestgel/vocabularies/2021> rdfs:label \"2021\" .\\n\\n<https://w3id.org/digestgel/vocabularies/italian> rdfs:label \"italian\" .\\n\\n<https://w3id.org/digestgel/vocabularies/policy-related-research> rdfs:label \"policy related research\" .\\n\\n'\n",
            "200\n"
          ]
        },
        {
          "output_type": "display_data",
          "data": {
            "text/plain": [
              "<IPython.core.display.Javascript object>"
            ],
            "application/javascript": [
              "\n",
              "    async function download(id, filename, size) {\n",
              "      if (!google.colab.kernel.accessAllowed) {\n",
              "        return;\n",
              "      }\n",
              "      const div = document.createElement('div');\n",
              "      const label = document.createElement('label');\n",
              "      label.textContent = `Downloading \"${filename}\": `;\n",
              "      div.appendChild(label);\n",
              "      const progress = document.createElement('progress');\n",
              "      progress.max = size;\n",
              "      div.appendChild(progress);\n",
              "      document.body.appendChild(div);\n",
              "\n",
              "      const buffers = [];\n",
              "      let downloaded = 0;\n",
              "\n",
              "      const channel = await google.colab.kernel.comms.open(id);\n",
              "      // Send a message to notify the kernel that we're ready.\n",
              "      channel.send({})\n",
              "\n",
              "      for await (const message of channel.messages) {\n",
              "        // Send a message to notify the kernel that we're ready.\n",
              "        channel.send({})\n",
              "        if (message.buffers) {\n",
              "          for (const buffer of message.buffers) {\n",
              "            buffers.push(buffer);\n",
              "            downloaded += buffer.byteLength;\n",
              "            progress.value = downloaded;\n",
              "          }\n",
              "        }\n",
              "      }\n",
              "      const blob = new Blob(buffers, {type: 'application/binary'});\n",
              "      const a = document.createElement('a');\n",
              "      a.href = window.URL.createObjectURL(blob);\n",
              "      a.download = filename;\n",
              "      div.appendChild(a);\n",
              "      a.click();\n",
              "      div.remove();\n",
              "    }\n",
              "  "
            ]
          },
          "metadata": {}
        },
        {
          "output_type": "display_data",
          "data": {
            "text/plain": [
              "<IPython.core.display.Javascript object>"
            ],
            "application/javascript": [
              "download(\"download_10e8b051-7f6d-47f4-825c-948f4f5013d0\", \"data.trig\", 2053)"
            ]
          },
          "metadata": {}
        }
      ]
    },
    {
      "cell_type": "code",
      "source": [
        "df.head()\n"
      ],
      "metadata": {
        "id": "JjegPXZN8Fv6",
        "colab": {
          "base_uri": "https://localhost:8080/",
          "height": 647
        },
        "outputId": "79f3b175-c5f2-4262-b6ee-24ad22a25fc9"
      },
      "execution_count": null,
      "outputs": [
        {
          "output_type": "execute_result",
          "data": {
            "text/plain": [
              "  publication type                                    reference (apa)  \\\n",
              "0             Book  Dato, D., & Ladogana, M. (A cura di). (2021). ...   \n",
              "1             Book  Mungongo, E.K. (2021). Educazione alla cittadi...   \n",
              "2             Book  Panarello, P. (2020). In difesa del pianeta vi...   \n",
              "3             Book  Ambel, Mario. (A cura di). (2020). Una scuola ...   \n",
              "4             Book  Simeone, D., & Zani, V. (A cura di). (2021). L...   \n",
              "\n",
              "      lang                                              title booktitle  \\\n",
              "0  Italian  Educare alla cittadinanza locale e globale. Co...       NaN   \n",
              "1  Italian  Educazione alla cittadinanza globale: Focus su...       NaN   \n",
              "2  Italian  In difesa del pianeta vivente per i diritti di...       NaN   \n",
              "3  Italian  Una scuola per la cittadinanza. Idee, Percorsi...       NaN   \n",
              "4  Italian  La casa della pace. Un progetto educativo in d...       NaN   \n",
              "\n",
              "                     author_1           author_2 author_3 author_4  author_5  \\\n",
              "0               Dato, Daniela  Ladogana, Manuela      NaN      NaN       NaN   \n",
              "1  Mungongo, Emmanuel Kasongo                NaN      NaN      NaN       NaN   \n",
              "2         Panarello, Patrizia                NaN      NaN      NaN       NaN   \n",
              "3                Ambel, Mario                NaN      NaN      NaN       NaN   \n",
              "4           Simeone, Domenico     Zani, Vincenzo      NaN      NaN       NaN   \n",
              "\n",
              "   ...  year               main_theme  \\\n",
              "0  ...  2021        teacher education   \n",
              "1  ...  2021  conceptual publications   \n",
              "2  ...  2020  conceptual publications   \n",
              "3  ...  2020        teacher education   \n",
              "4  ...  2021           community work   \n",
              "\n",
              "                           secondary_theme                 publisher  journal  \\\n",
              "0                     training of trainers                 Zeroseiup      NaN   \n",
              "1                              theoretical         Edizioni Sapienza      NaN   \n",
              "2                              theoretical                    Falzea      NaN   \n",
              "3                     training of trainers           Piemme Edizioni      NaN   \n",
              "4  informal education including youth work  Vita e Pensiero Editrice      NaN   \n",
              "\n",
              "  volume issue  pages                                               link  doi  \n",
              "0    NaN   NaN    NaN  https://www.zeroseiup.eu/prodotto/educare-alla...  NaN  \n",
              "1    NaN   NaN    NaN  https://www.miur.gov.it/documents/20182/439463...  NaN  \n",
              "2    NaN   NaN    NaN  https://sol.unibo.it/SebinaOpac/resource/in-di...  NaN  \n",
              "3    NaN   NaN    NaN                                                NaN  NaN  \n",
              "4    NaN   NaN    NaN  https://www.vitaepensiero.it/scheda-libro/auto...  NaN  \n",
              "\n",
              "[5 rows x 35 columns]"
            ],
            "text/html": [
              "\n",
              "  <div id=\"df-7a35283f-e817-4394-8cc2-da82bb32fc7b\">\n",
              "    <div class=\"colab-df-container\">\n",
              "      <div>\n",
              "<style scoped>\n",
              "    .dataframe tbody tr th:only-of-type {\n",
              "        vertical-align: middle;\n",
              "    }\n",
              "\n",
              "    .dataframe tbody tr th {\n",
              "        vertical-align: top;\n",
              "    }\n",
              "\n",
              "    .dataframe thead th {\n",
              "        text-align: right;\n",
              "    }\n",
              "</style>\n",
              "<table border=\"1\" class=\"dataframe\">\n",
              "  <thead>\n",
              "    <tr style=\"text-align: right;\">\n",
              "      <th></th>\n",
              "      <th>publication type</th>\n",
              "      <th>reference (apa)</th>\n",
              "      <th>lang</th>\n",
              "      <th>title</th>\n",
              "      <th>booktitle</th>\n",
              "      <th>author_1</th>\n",
              "      <th>author_2</th>\n",
              "      <th>author_3</th>\n",
              "      <th>author_4</th>\n",
              "      <th>author_5</th>\n",
              "      <th>...</th>\n",
              "      <th>year</th>\n",
              "      <th>main_theme</th>\n",
              "      <th>secondary_theme</th>\n",
              "      <th>publisher</th>\n",
              "      <th>journal</th>\n",
              "      <th>volume</th>\n",
              "      <th>issue</th>\n",
              "      <th>pages</th>\n",
              "      <th>link</th>\n",
              "      <th>doi</th>\n",
              "    </tr>\n",
              "  </thead>\n",
              "  <tbody>\n",
              "    <tr>\n",
              "      <th>0</th>\n",
              "      <td>Book</td>\n",
              "      <td>Dato, D., &amp; Ladogana, M. (A cura di). (2021). ...</td>\n",
              "      <td>Italian</td>\n",
              "      <td>Educare alla cittadinanza locale e globale. Co...</td>\n",
              "      <td>NaN</td>\n",
              "      <td>Dato, Daniela</td>\n",
              "      <td>Ladogana, Manuela</td>\n",
              "      <td>NaN</td>\n",
              "      <td>NaN</td>\n",
              "      <td>NaN</td>\n",
              "      <td>...</td>\n",
              "      <td>2021</td>\n",
              "      <td>teacher education</td>\n",
              "      <td>training of trainers</td>\n",
              "      <td>Zeroseiup</td>\n",
              "      <td>NaN</td>\n",
              "      <td>NaN</td>\n",
              "      <td>NaN</td>\n",
              "      <td>NaN</td>\n",
              "      <td>https://www.zeroseiup.eu/prodotto/educare-alla...</td>\n",
              "      <td>NaN</td>\n",
              "    </tr>\n",
              "    <tr>\n",
              "      <th>1</th>\n",
              "      <td>Book</td>\n",
              "      <td>Mungongo, E.K. (2021). Educazione alla cittadi...</td>\n",
              "      <td>Italian</td>\n",
              "      <td>Educazione alla cittadinanza globale: Focus su...</td>\n",
              "      <td>NaN</td>\n",
              "      <td>Mungongo, Emmanuel Kasongo</td>\n",
              "      <td>NaN</td>\n",
              "      <td>NaN</td>\n",
              "      <td>NaN</td>\n",
              "      <td>NaN</td>\n",
              "      <td>...</td>\n",
              "      <td>2021</td>\n",
              "      <td>conceptual publications</td>\n",
              "      <td>theoretical</td>\n",
              "      <td>Edizioni Sapienza</td>\n",
              "      <td>NaN</td>\n",
              "      <td>NaN</td>\n",
              "      <td>NaN</td>\n",
              "      <td>NaN</td>\n",
              "      <td>https://www.miur.gov.it/documents/20182/439463...</td>\n",
              "      <td>NaN</td>\n",
              "    </tr>\n",
              "    <tr>\n",
              "      <th>2</th>\n",
              "      <td>Book</td>\n",
              "      <td>Panarello, P. (2020). In difesa del pianeta vi...</td>\n",
              "      <td>Italian</td>\n",
              "      <td>In difesa del pianeta vivente per i diritti di...</td>\n",
              "      <td>NaN</td>\n",
              "      <td>Panarello, Patrizia</td>\n",
              "      <td>NaN</td>\n",
              "      <td>NaN</td>\n",
              "      <td>NaN</td>\n",
              "      <td>NaN</td>\n",
              "      <td>...</td>\n",
              "      <td>2020</td>\n",
              "      <td>conceptual publications</td>\n",
              "      <td>theoretical</td>\n",
              "      <td>Falzea</td>\n",
              "      <td>NaN</td>\n",
              "      <td>NaN</td>\n",
              "      <td>NaN</td>\n",
              "      <td>NaN</td>\n",
              "      <td>https://sol.unibo.it/SebinaOpac/resource/in-di...</td>\n",
              "      <td>NaN</td>\n",
              "    </tr>\n",
              "    <tr>\n",
              "      <th>3</th>\n",
              "      <td>Book</td>\n",
              "      <td>Ambel, Mario. (A cura di). (2020). Una scuola ...</td>\n",
              "      <td>Italian</td>\n",
              "      <td>Una scuola per la cittadinanza. Idee, Percorsi...</td>\n",
              "      <td>NaN</td>\n",
              "      <td>Ambel, Mario</td>\n",
              "      <td>NaN</td>\n",
              "      <td>NaN</td>\n",
              "      <td>NaN</td>\n",
              "      <td>NaN</td>\n",
              "      <td>...</td>\n",
              "      <td>2020</td>\n",
              "      <td>teacher education</td>\n",
              "      <td>training of trainers</td>\n",
              "      <td>Piemme Edizioni</td>\n",
              "      <td>NaN</td>\n",
              "      <td>NaN</td>\n",
              "      <td>NaN</td>\n",
              "      <td>NaN</td>\n",
              "      <td>NaN</td>\n",
              "      <td>NaN</td>\n",
              "    </tr>\n",
              "    <tr>\n",
              "      <th>4</th>\n",
              "      <td>Book</td>\n",
              "      <td>Simeone, D., &amp; Zani, V. (A cura di). (2021). L...</td>\n",
              "      <td>Italian</td>\n",
              "      <td>La casa della pace. Un progetto educativo in d...</td>\n",
              "      <td>NaN</td>\n",
              "      <td>Simeone, Domenico</td>\n",
              "      <td>Zani, Vincenzo</td>\n",
              "      <td>NaN</td>\n",
              "      <td>NaN</td>\n",
              "      <td>NaN</td>\n",
              "      <td>...</td>\n",
              "      <td>2021</td>\n",
              "      <td>community work</td>\n",
              "      <td>informal education including youth work</td>\n",
              "      <td>Vita e Pensiero Editrice</td>\n",
              "      <td>NaN</td>\n",
              "      <td>NaN</td>\n",
              "      <td>NaN</td>\n",
              "      <td>NaN</td>\n",
              "      <td>https://www.vitaepensiero.it/scheda-libro/auto...</td>\n",
              "      <td>NaN</td>\n",
              "    </tr>\n",
              "  </tbody>\n",
              "</table>\n",
              "<p>5 rows × 35 columns</p>\n",
              "</div>\n",
              "      <button class=\"colab-df-convert\" onclick=\"convertToInteractive('df-7a35283f-e817-4394-8cc2-da82bb32fc7b')\"\n",
              "              title=\"Convert this dataframe to an interactive table.\"\n",
              "              style=\"display:none;\">\n",
              "        \n",
              "  <svg xmlns=\"http://www.w3.org/2000/svg\" height=\"24px\"viewBox=\"0 0 24 24\"\n",
              "       width=\"24px\">\n",
              "    <path d=\"M0 0h24v24H0V0z\" fill=\"none\"/>\n",
              "    <path d=\"M18.56 5.44l.94 2.06.94-2.06 2.06-.94-2.06-.94-.94-2.06-.94 2.06-2.06.94zm-11 1L8.5 8.5l.94-2.06 2.06-.94-2.06-.94L8.5 2.5l-.94 2.06-2.06.94zm10 10l.94 2.06.94-2.06 2.06-.94-2.06-.94-.94-2.06-.94 2.06-2.06.94z\"/><path d=\"M17.41 7.96l-1.37-1.37c-.4-.4-.92-.59-1.43-.59-.52 0-1.04.2-1.43.59L10.3 9.45l-7.72 7.72c-.78.78-.78 2.05 0 2.83L4 21.41c.39.39.9.59 1.41.59.51 0 1.02-.2 1.41-.59l7.78-7.78 2.81-2.81c.8-.78.8-2.07 0-2.86zM5.41 20L4 18.59l7.72-7.72 1.47 1.35L5.41 20z\"/>\n",
              "  </svg>\n",
              "      </button>\n",
              "      \n",
              "  <style>\n",
              "    .colab-df-container {\n",
              "      display:flex;\n",
              "      flex-wrap:wrap;\n",
              "      gap: 12px;\n",
              "    }\n",
              "\n",
              "    .colab-df-convert {\n",
              "      background-color: #E8F0FE;\n",
              "      border: none;\n",
              "      border-radius: 50%;\n",
              "      cursor: pointer;\n",
              "      display: none;\n",
              "      fill: #1967D2;\n",
              "      height: 32px;\n",
              "      padding: 0 0 0 0;\n",
              "      width: 32px;\n",
              "    }\n",
              "\n",
              "    .colab-df-convert:hover {\n",
              "      background-color: #E2EBFA;\n",
              "      box-shadow: 0px 1px 2px rgba(60, 64, 67, 0.3), 0px 1px 3px 1px rgba(60, 64, 67, 0.15);\n",
              "      fill: #174EA6;\n",
              "    }\n",
              "\n",
              "    [theme=dark] .colab-df-convert {\n",
              "      background-color: #3B4455;\n",
              "      fill: #D2E3FC;\n",
              "    }\n",
              "\n",
              "    [theme=dark] .colab-df-convert:hover {\n",
              "      background-color: #434B5C;\n",
              "      box-shadow: 0px 1px 3px 1px rgba(0, 0, 0, 0.15);\n",
              "      filter: drop-shadow(0px 1px 2px rgba(0, 0, 0, 0.3));\n",
              "      fill: #FFFFFF;\n",
              "    }\n",
              "  </style>\n",
              "\n",
              "      <script>\n",
              "        const buttonEl =\n",
              "          document.querySelector('#df-7a35283f-e817-4394-8cc2-da82bb32fc7b button.colab-df-convert');\n",
              "        buttonEl.style.display =\n",
              "          google.colab.kernel.accessAllowed ? 'block' : 'none';\n",
              "\n",
              "        async function convertToInteractive(key) {\n",
              "          const element = document.querySelector('#df-7a35283f-e817-4394-8cc2-da82bb32fc7b');\n",
              "          const dataTable =\n",
              "            await google.colab.kernel.invokeFunction('convertToInteractive',\n",
              "                                                     [key], {});\n",
              "          if (!dataTable) return;\n",
              "\n",
              "          const docLinkHtml = 'Like what you see? Visit the ' +\n",
              "            '<a target=\"_blank\" href=https://colab.research.google.com/notebooks/data_table.ipynb>data table notebook</a>'\n",
              "            + ' to learn more about interactive tables.';\n",
              "          element.innerHTML = '';\n",
              "          dataTable['output_type'] = 'display_data';\n",
              "          await google.colab.output.renderOutput(dataTable, element);\n",
              "          const docLink = document.createElement('div');\n",
              "          docLink.innerHTML = docLinkHtml;\n",
              "          element.appendChild(docLink);\n",
              "        }\n",
              "      </script>\n",
              "    </div>\n",
              "  </div>\n",
              "  "
            ]
          },
          "metadata": {},
          "execution_count": 26
        }
      ]
    }
  ]
}